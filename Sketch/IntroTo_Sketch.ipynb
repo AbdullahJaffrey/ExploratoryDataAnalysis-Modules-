{
  "nbformat": 4,
  "nbformat_minor": 0,
  "metadata": {
    "colab": {
      "provenance": [],
      "name": "IntroTo_Sketch.ipynb"
    },
    "kernelspec": {
      "name": "python3",
      "display_name": "Python 3"
    },
    "language_info": {
      "name": "python"
    }
  },
  "cells": [
    {
      "cell_type": "code",
      "execution_count": 1,
      "metadata": {
        "id": "y0v8Wz2xo6P9",
        "outputId": "30daa426-6a1b-449e-cc0f-ca6631021cbd",
        "colab": {
          "base_uri": "https://localhost:8080/"
        }
      },
      "outputs": [
        {
          "output_type": "stream",
          "name": "stdout",
          "text": [
            "Looking in indexes: https://pypi.org/simple, https://us-python.pkg.dev/colab-wheels/public/simple/\n",
            "Collecting sketch\n",
            "  Downloading sketch-0.3.5-py3-none-any.whl (16 kB)\n",
            "Collecting datasketches>=4.0.0\n",
            "  Downloading datasketches-4.0.1-cp39-cp39-manylinux_2_17_x86_64.manylinux2014_x86_64.whl (605 kB)\n",
            "\u001b[2K     \u001b[90m━━━━━━━━━━━━━━━━━━━━━━━━━━━━━━━━━━━━━━━\u001b[0m \u001b[32m605.3/605.3 KB\u001b[0m \u001b[31m9.1 MB/s\u001b[0m eta \u001b[36m0:00:00\u001b[0m\n",
            "\u001b[?25hRequirement already satisfied: pandas>=1.3.0 in /usr/local/lib/python3.9/dist-packages (from sketch) (1.3.5)\n",
            "Requirement already satisfied: ipython in /usr/local/lib/python3.9/dist-packages (from sketch) (7.9.0)\n",
            "Collecting lambdaprompt\n",
            "  Downloading lambdaprompt-0.4.1-py3-none-any.whl (12 kB)\n",
            "Collecting datasketch>=1.5.8\n",
            "  Downloading datasketch-1.5.9-py3-none-any.whl (76 kB)\n",
            "\u001b[2K     \u001b[90m━━━━━━━━━━━━━━━━━━━━━━━━━━━━━━━━━━━━━━━━\u001b[0m \u001b[32m76.7/76.7 KB\u001b[0m \u001b[31m4.2 MB/s\u001b[0m eta \u001b[36m0:00:00\u001b[0m\n",
            "\u001b[?25hRequirement already satisfied: packaging in /usr/local/lib/python3.9/dist-packages (from sketch) (23.0)\n",
            "Requirement already satisfied: numpy>=1.11 in /usr/local/lib/python3.9/dist-packages (from datasketch>=1.5.8->sketch) (1.22.4)\n",
            "Requirement already satisfied: scipy>=1.0.0 in /usr/local/lib/python3.9/dist-packages (from datasketch>=1.5.8->sketch) (1.10.1)\n",
            "Requirement already satisfied: python-dateutil>=2.7.3 in /usr/local/lib/python3.9/dist-packages (from pandas>=1.3.0->sketch) (2.8.2)\n",
            "Requirement already satisfied: pytz>=2017.3 in /usr/local/lib/python3.9/dist-packages (from pandas>=1.3.0->sketch) (2022.7.1)\n",
            "Requirement already satisfied: traitlets>=4.2 in /usr/local/lib/python3.9/dist-packages (from ipython->sketch) (5.7.1)\n",
            "Collecting jedi>=0.10\n",
            "  Downloading jedi-0.18.2-py2.py3-none-any.whl (1.6 MB)\n",
            "\u001b[2K     \u001b[90m━━━━━━━━━━━━━━━━━━━━━━━━━━━━━━━━━━━━━━━━\u001b[0m \u001b[32m1.6/1.6 MB\u001b[0m \u001b[31m31.3 MB/s\u001b[0m eta \u001b[36m0:00:00\u001b[0m\n",
            "\u001b[?25hRequirement already satisfied: backcall in /usr/local/lib/python3.9/dist-packages (from ipython->sketch) (0.2.0)\n",
            "Requirement already satisfied: pickleshare in /usr/local/lib/python3.9/dist-packages (from ipython->sketch) (0.7.5)\n",
            "Requirement already satisfied: pygments in /usr/local/lib/python3.9/dist-packages (from ipython->sketch) (2.6.1)\n",
            "Requirement already satisfied: decorator in /usr/local/lib/python3.9/dist-packages (from ipython->sketch) (4.4.2)\n",
            "Requirement already satisfied: setuptools>=18.5 in /usr/local/lib/python3.9/dist-packages (from ipython->sketch) (57.4.0)\n",
            "Requirement already satisfied: prompt-toolkit<2.1.0,>=2.0.0 in /usr/local/lib/python3.9/dist-packages (from ipython->sketch) (2.0.10)\n",
            "Requirement already satisfied: pexpect in /usr/local/lib/python3.9/dist-packages (from ipython->sketch) (4.8.0)\n",
            "Collecting aiohttp\n",
            "  Downloading aiohttp-3.8.4-cp39-cp39-manylinux_2_17_x86_64.manylinux2014_x86_64.whl (1.0 MB)\n",
            "\u001b[2K     \u001b[90m━━━━━━━━━━━━━━━━━━━━━━━━━━━━━━━━━━━━━━━━\u001b[0m \u001b[32m1.0/1.0 MB\u001b[0m \u001b[31m29.6 MB/s\u001b[0m eta \u001b[36m0:00:00\u001b[0m\n",
            "\u001b[?25hRequirement already satisfied: requests in /usr/local/lib/python3.9/dist-packages (from lambdaprompt->sketch) (2.25.1)\n",
            "Requirement already satisfied: pyyaml in /usr/local/lib/python3.9/dist-packages (from lambdaprompt->sketch) (6.0)\n",
            "Collecting python-dotenv\n",
            "  Downloading python_dotenv-1.0.0-py3-none-any.whl (19 kB)\n",
            "Collecting nest-asyncio\n",
            "  Downloading nest_asyncio-1.5.6-py3-none-any.whl (5.2 kB)\n",
            "Requirement already satisfied: jinja2 in /usr/local/lib/python3.9/dist-packages (from lambdaprompt->sketch) (3.1.2)\n",
            "Requirement already satisfied: parso<0.9.0,>=0.8.0 in /usr/local/lib/python3.9/dist-packages (from jedi>=0.10->ipython->sketch) (0.8.3)\n",
            "Requirement already satisfied: wcwidth in /usr/local/lib/python3.9/dist-packages (from prompt-toolkit<2.1.0,>=2.0.0->ipython->sketch) (0.2.6)\n",
            "Requirement already satisfied: six>=1.9.0 in /usr/local/lib/python3.9/dist-packages (from prompt-toolkit<2.1.0,>=2.0.0->ipython->sketch) (1.15.0)\n",
            "Collecting yarl<2.0,>=1.0\n",
            "  Downloading yarl-1.8.2-cp39-cp39-manylinux_2_17_x86_64.manylinux2014_x86_64.whl (264 kB)\n",
            "\u001b[2K     \u001b[90m━━━━━━━━━━━━━━━━━━━━━━━━━━━━━━━━━━━━━━\u001b[0m \u001b[32m264.6/264.6 KB\u001b[0m \u001b[31m10.5 MB/s\u001b[0m eta \u001b[36m0:00:00\u001b[0m\n",
            "\u001b[?25hCollecting multidict<7.0,>=4.5\n",
            "  Downloading multidict-6.0.4-cp39-cp39-manylinux_2_17_x86_64.manylinux2014_x86_64.whl (114 kB)\n",
            "\u001b[2K     \u001b[90m━━━━━━━━━━━━━━━━━━━━━━━━━━━━━━━━━━━━━━━\u001b[0m \u001b[32m114.2/114.2 KB\u001b[0m \u001b[31m2.4 MB/s\u001b[0m eta \u001b[36m0:00:00\u001b[0m\n",
            "\u001b[?25hRequirement already satisfied: attrs>=17.3.0 in /usr/local/lib/python3.9/dist-packages (from aiohttp->lambdaprompt->sketch) (22.2.0)\n",
            "Collecting aiosignal>=1.1.2\n",
            "  Downloading aiosignal-1.3.1-py3-none-any.whl (7.6 kB)\n",
            "Collecting frozenlist>=1.1.1\n",
            "  Downloading frozenlist-1.3.3-cp39-cp39-manylinux_2_5_x86_64.manylinux1_x86_64.manylinux_2_17_x86_64.manylinux2014_x86_64.whl (158 kB)\n",
            "\u001b[2K     \u001b[90m━━━━━━━━━━━━━━━━━━━━━━━━━━━━━━━━━━━━━━━\u001b[0m \u001b[32m158.8/158.8 KB\u001b[0m \u001b[31m8.2 MB/s\u001b[0m eta \u001b[36m0:00:00\u001b[0m\n",
            "\u001b[?25hCollecting async-timeout<5.0,>=4.0.0a3\n",
            "  Downloading async_timeout-4.0.2-py3-none-any.whl (5.8 kB)\n",
            "Collecting charset-normalizer<4.0,>=2.0\n",
            "  Downloading charset_normalizer-3.1.0-cp39-cp39-manylinux_2_17_x86_64.manylinux2014_x86_64.whl (199 kB)\n",
            "\u001b[2K     \u001b[90m━━━━━━━━━━━━━━━━━━━━━━━━━━━━━━━━━━━━━━━\u001b[0m \u001b[32m199.2/199.2 KB\u001b[0m \u001b[31m8.7 MB/s\u001b[0m eta \u001b[36m0:00:00\u001b[0m\n",
            "\u001b[?25hRequirement already satisfied: MarkupSafe>=2.0 in /usr/local/lib/python3.9/dist-packages (from jinja2->lambdaprompt->sketch) (2.1.2)\n",
            "Requirement already satisfied: ptyprocess>=0.5 in /usr/local/lib/python3.9/dist-packages (from pexpect->ipython->sketch) (0.7.0)\n",
            "Requirement already satisfied: idna<3,>=2.5 in /usr/local/lib/python3.9/dist-packages (from requests->lambdaprompt->sketch) (2.10)\n",
            "Requirement already satisfied: urllib3<1.27,>=1.21.1 in /usr/local/lib/python3.9/dist-packages (from requests->lambdaprompt->sketch) (1.26.14)\n",
            "Requirement already satisfied: chardet<5,>=3.0.2 in /usr/local/lib/python3.9/dist-packages (from requests->lambdaprompt->sketch) (4.0.0)\n",
            "Requirement already satisfied: certifi>=2017.4.17 in /usr/local/lib/python3.9/dist-packages (from requests->lambdaprompt->sketch) (2022.12.7)\n",
            "Installing collected packages: python-dotenv, nest-asyncio, multidict, jedi, frozenlist, datasketches, charset-normalizer, async-timeout, yarl, datasketch, aiosignal, aiohttp, lambdaprompt, sketch\n",
            "Successfully installed aiohttp-3.8.4 aiosignal-1.3.1 async-timeout-4.0.2 charset-normalizer-3.1.0 datasketch-1.5.9 datasketches-4.0.1 frozenlist-1.3.3 jedi-0.18.2 lambdaprompt-0.4.1 multidict-6.0.4 nest-asyncio-1.5.6 python-dotenv-1.0.0 sketch-0.3.5 yarl-1.8.2\n"
          ]
        }
      ],
      "source": [
        "! pip install sketch"
      ]
    },
    {
      "cell_type": "code",
      "source": [
        "import sketch\n",
        "import pandas as pd"
      ],
      "metadata": {
        "id": "6xZgjwWypy91"
      },
      "execution_count": 2,
      "outputs": []
    },
    {
      "cell_type": "code",
      "source": [
        "sales_data = pd.read_csv(\"https://gist.githubusercontent.com/bluecoconut/9ce2135aafb5c6ab2dc1d60ac595646e/raw/c93c3500a1f7fae469cba716f09358cfddea6343/sales_demo_with_pii_and_all_states.csv\")\n"
      ],
      "metadata": {
        "id": "RakxiUGG6_-D"
      },
      "execution_count": 3,
      "outputs": []
    },
    {
      "cell_type": "code",
      "source": [
        "sales_data.sketch.ask(\"What columns might have PII information in them?\")\n"
      ],
      "metadata": {
        "colab": {
          "base_uri": "https://localhost:8080/",
          "height": 34
        },
        "id": "iWi9PWv17BRc",
        "outputId": "9ee330af-c487-49f7-a3d4-231f634618c9"
      },
      "execution_count": 4,
      "outputs": [
        {
          "output_type": "display_data",
          "data": {
            "text/plain": [
              "<IPython.core.display.HTML object>"
            ],
            "text/html": [
              "\n",
              "The columns that might have PII information in them are Credit Card, SSN, and Purchase Address."
            ]
          },
          "metadata": {}
        }
      ]
    },
    {
      "cell_type": "code",
      "source": [
        "sales_data.sketch.ask(\"Can you give me friendly names for each column? (output as an HTML list)\")"
      ],
      "metadata": {
        "colab": {
          "base_uri": "https://localhost:8080/",
          "height": 185
        },
        "id": "tODhKneo7Cqx",
        "outputId": "6ad5030b-cb1e-4a3e-ddb9-cbb1c101d93e"
      },
      "execution_count": 5,
      "outputs": [
        {
          "output_type": "display_data",
          "data": {
            "text/plain": [
              "<IPython.core.display.HTML object>"
            ],
            "text/html": [
              "\n",
              "<ul>\n",
              "  <li>Index: Index</li>\n",
              "  <li>Order ID: Order ID</li>\n",
              "  <li>Product: Product</li>\n",
              "  <li>Quantity Ordered: Quantity Ordered</li>\n",
              "  <li>Price Each: Price Each</li>\n",
              "  <li>Order Date: Order Date</li>\n",
              "  <li>Purchase Address: Purchase Address</li>\n",
              "  <li>Credit Card: Credit Card</li>\n",
              "  <li>SSN: SSN</li>\n",
              "</ul>\n"
            ]
          },
          "metadata": {}
        }
      ]
    },
    {
      "cell_type": "code",
      "source": [
        "sales_data.sketch.howto(\"Create some derived features from the address\")\n"
      ],
      "metadata": {
        "colab": {
          "base_uri": "https://localhost:8080/",
          "height": 156
        },
        "id": "Fl28eqZo7EEe",
        "outputId": "833d8ab9-9402-4413-abd9-74b45b0c6a6d"
      },
      "execution_count": 6,
      "outputs": [
        {
          "output_type": "display_data",
          "data": {
            "text/plain": [
              "<IPython.core.display.HTML object>"
            ],
            "text/html": [
              "<div style=\"display:flex;flex-direction:row;justify-content:space-between;\">\n",
              "                <pre style=\"width: 100%; white-space: pre-wrap;\" id=\"dd121317-0312-410c-83e3-493240b6aac0\">\n",
              "# Create a new column for the city\n",
              "sales_data['City'] = sales_data['Purchase Address'].apply(lambda x: x.split(',')[1])\n",
              "\n",
              "# Create a new column for the state\n",
              "sales_data['State'] = sales_data['Purchase Address'].apply(lambda x: x.split(',')[2].split(' ')[1])\n",
              "\n",
              "# Create a new column for the zipcode\n",
              "sales_data['Zipcode'] = sales_data['Purchase Address'].apply(lambda x: x.split(',')[2].split(' ')[2])\n",
              "</pre>\n",
              "                <button style=\"height: fit-content;\" onclick=\"navigator.clipboard.writeText(JSON.parse(atob(`IlxuIyBDcmVhdGUgYSBuZXcgY29sdW1uIGZvciB0aGUgY2l0eVxuc2FsZXNfZGF0YVsnQ2l0eSddID0gc2FsZXNfZGF0YVsnUHVyY2hhc2UgQWRkcmVzcyddLmFwcGx5KGxhbWJkYSB4OiB4LnNwbGl0KCcsJylbMV0pXG5cbiMgQ3JlYXRlIGEgbmV3IGNvbHVtbiBmb3IgdGhlIHN0YXRlXG5zYWxlc19kYXRhWydTdGF0ZSddID0gc2FsZXNfZGF0YVsnUHVyY2hhc2UgQWRkcmVzcyddLmFwcGx5KGxhbWJkYSB4OiB4LnNwbGl0KCcsJylbMl0uc3BsaXQoJyAnKVsxXSlcblxuIyBDcmVhdGUgYSBuZXcgY29sdW1uIGZvciB0aGUgemlwY29kZVxuc2FsZXNfZGF0YVsnWmlwY29kZSddID0gc2FsZXNfZGF0YVsnUHVyY2hhc2UgQWRkcmVzcyddLmFwcGx5KGxhbWJkYSB4OiB4LnNwbGl0KCcsJylbMl0uc3BsaXQoJyAnKVsyXSlcbiI=`)))\">Copy</button>\n",
              "                </div>"
            ]
          },
          "metadata": {}
        }
      ]
    },
    {
      "cell_type": "code",
      "source": [
        "# Create a new column for the city\n",
        "sales_data['City'] = sales_data['Purchase Address'].apply(lambda x: x.split(',')[1])\n",
        "\n",
        "# Create a new column for the state\n",
        "sales_data['State'] = sales_data['Purchase Address'].apply(lambda x: x.split(',')[2].split(' ')[1])\n",
        "\n",
        "# Create a new column for the zipcode\n",
        "sales_data['Zipcode'] = sales_data['Purchase Address'].apply(lambda x: x.split(',')[2].split(' ')[2])\n"
      ],
      "metadata": {
        "id": "qBYeBOHi7F2q"
      },
      "execution_count": 7,
      "outputs": []
    },
    {
      "cell_type": "code",
      "source": [
        "sales_data.sketch.howto(\"Get the top 5 grossing states\")"
      ],
      "metadata": {
        "colab": {
          "base_uri": "https://localhost:8080/",
          "height": 243
        },
        "id": "G7u96HMf7IqP",
        "outputId": "a49ce9d1-3760-47ee-bdcb-e927b7ced88f"
      },
      "execution_count": 8,
      "outputs": [
        {
          "output_type": "display_data",
          "data": {
            "text/plain": [
              "<IPython.core.display.HTML object>"
            ],
            "text/html": [
              "<div style=\"display:flex;flex-direction:row;justify-content:space-between;\">\n",
              "                <pre style=\"width: 100%; white-space: pre-wrap;\" id=\"b13c1095-6904-4fb1-a355-e5c5bd934ba8\">\n",
              "# Get the top 5 grossing states\n",
              "\n",
              "# Calculate total sales per state\n",
              "state_sales = sales_data.groupby('State')['Price Each'].sum().reset_index()\n",
              "\n",
              "# Sort the dataframe by total sales in descending order\n",
              "state_sales = state_sales.sort_values(by='Price Each', ascending=False)\n",
              "\n",
              "# Get the top 5 grossing states\n",
              "top_5_states = state_sales.head(5)\n",
              "\n",
              "# Print the results\n",
              "print(top_5_states)\n",
              "</pre>\n",
              "                <button style=\"height: fit-content;\" onclick=\"navigator.clipboard.writeText(JSON.parse(atob(`IlxuIyBHZXQgdGhlIHRvcCA1IGdyb3NzaW5nIHN0YXRlc1xuXG4jIENhbGN1bGF0ZSB0b3RhbCBzYWxlcyBwZXIgc3RhdGVcbnN0YXRlX3NhbGVzID0gc2FsZXNfZGF0YS5ncm91cGJ5KCdTdGF0ZScpWydQcmljZSBFYWNoJ10uc3VtKCkucmVzZXRfaW5kZXgoKVxuXG4jIFNvcnQgdGhlIGRhdGFmcmFtZSBieSB0b3RhbCBzYWxlcyBpbiBkZXNjZW5kaW5nIG9yZGVyXG5zdGF0ZV9zYWxlcyA9IHN0YXRlX3NhbGVzLnNvcnRfdmFsdWVzKGJ5PSdQcmljZSBFYWNoJywgYXNjZW5kaW5nPUZhbHNlKVxuXG4jIEdldCB0aGUgdG9wIDUgZ3Jvc3Npbmcgc3RhdGVzXG50b3BfNV9zdGF0ZXMgPSBzdGF0ZV9zYWxlcy5oZWFkKDUpXG5cbiMgUHJpbnQgdGhlIHJlc3VsdHNcbnByaW50KHRvcF81X3N0YXRlcylcbiI=`)))\">Copy</button>\n",
              "                </div>"
            ]
          },
          "metadata": {}
        }
      ]
    },
    {
      "cell_type": "code",
      "source": [
        "\n",
        "# Get the top 5 grossing states\n",
        "\n",
        "# Calculate total sales per state\n",
        "state_sales = sales_data.groupby('State')['Price Each'].sum().reset_index()\n",
        "\n",
        "# Sort the dataframe by total sales in descending order\n",
        "state_sales = state_sales.sort_values(by='Price Each', ascending=False)\n",
        "\n",
        "# Get the top 5 grossing states\n",
        "top_5_states = state_sales.head(5)\n",
        "\n",
        "# Print the results\n",
        "print(top_5_states)\n"
      ],
      "metadata": {
        "colab": {
          "base_uri": "https://localhost:8080/"
        },
        "id": "vSklBPaA7Kr5",
        "outputId": "d6d1e531-94f8-4111-ade4-dcc7b10abd5d"
      },
      "execution_count": 9,
      "outputs": [
        {
          "output_type": "stream",
          "name": "stdout",
          "text": [
            "   State  Price Each\n",
            "4     CA  4222370.22\n",
            "42    TX  2940575.44\n",
            "8     FL  2166926.57\n",
            "33    NY  2070624.71\n",
            "13    IL  1413911.86\n"
          ]
        }
      ]
    },
    {
      "cell_type": "code",
      "source": [
        "# Done"
      ],
      "metadata": {
        "id": "MR2aNYsY7NT4"
      },
      "execution_count": 10,
      "outputs": []
    }
  ]
}