{
  "nbformat": 4,
  "nbformat_minor": 0,
  "metadata": {
    "colab": {
      "provenance": []
    },
    "kernelspec": {
      "name": "python3",
      "display_name": "Python 3"
    },
    "language_info": {
      "name": "python"
    }
  },
  "cells": [
    {
      "cell_type": "code",
      "source": [
        "!pip install pandas_alive"
      ],
      "metadata": {
        "colab": {
          "base_uri": "https://localhost:8080/"
        },
        "id": "jGU3Xx3Cuduh",
        "outputId": "7c751934-ea6c-4efd-c1f8-3ce764e7ae2f"
      },
      "execution_count": null,
      "outputs": [
        {
          "output_type": "stream",
          "name": "stdout",
          "text": [
            "Looking in indexes: https://pypi.org/simple, https://us-python.pkg.dev/colab-wheels/public/simple/\n",
            "Requirement already satisfied: pandas_alive in /usr/local/lib/python3.9/dist-packages (0.2.4)\n",
            "Requirement already satisfied: pillow<8.0.0,>=7.1.2 in /usr/local/lib/python3.9/dist-packages (from pandas_alive) (7.2.0)\n",
            "Requirement already satisfied: pandas<2.0.0,>=1.0.3 in /usr/local/lib/python3.9/dist-packages (from pandas_alive) (1.3.5)\n",
            "Requirement already satisfied: matplotlib<4.0.0,>=3.2.1 in /usr/local/lib/python3.9/dist-packages (from pandas_alive) (3.5.3)\n",
            "Requirement already satisfied: attrs<20.0.0,>=19.3.0 in /usr/local/lib/python3.9/dist-packages (from pandas_alive) (19.3.0)\n",
            "Requirement already satisfied: pyparsing>=2.2.1 in /usr/local/lib/python3.9/dist-packages (from matplotlib<4.0.0,>=3.2.1->pandas_alive) (3.0.9)\n",
            "Requirement already satisfied: kiwisolver>=1.0.1 in /usr/local/lib/python3.9/dist-packages (from matplotlib<4.0.0,>=3.2.1->pandas_alive) (1.4.4)\n",
            "Requirement already satisfied: cycler>=0.10 in /usr/local/lib/python3.9/dist-packages (from matplotlib<4.0.0,>=3.2.1->pandas_alive) (0.11.0)\n",
            "Requirement already satisfied: python-dateutil>=2.7 in /usr/local/lib/python3.9/dist-packages (from matplotlib<4.0.0,>=3.2.1->pandas_alive) (2.8.2)\n",
            "Requirement already satisfied: packaging>=20.0 in /usr/local/lib/python3.9/dist-packages (from matplotlib<4.0.0,>=3.2.1->pandas_alive) (23.0)\n",
            "Requirement already satisfied: numpy>=1.17 in /usr/local/lib/python3.9/dist-packages (from matplotlib<4.0.0,>=3.2.1->pandas_alive) (1.22.4)\n",
            "Requirement already satisfied: fonttools>=4.22.0 in /usr/local/lib/python3.9/dist-packages (from matplotlib<4.0.0,>=3.2.1->pandas_alive) (4.39.0)\n",
            "Requirement already satisfied: pytz>=2017.3 in /usr/local/lib/python3.9/dist-packages (from pandas<2.0.0,>=1.0.3->pandas_alive) (2022.7.1)\n",
            "Requirement already satisfied: six>=1.5 in /usr/local/lib/python3.9/dist-packages (from python-dateutil>=2.7->matplotlib<4.0.0,>=3.2.1->pandas_alive) (1.15.0)\n"
          ]
        }
      ]
    },
    {
      "cell_type": "code",
      "source": [
        "import pandas_alive"
      ],
      "metadata": {
        "id": "BTOAU9ADud1Z"
      },
      "execution_count": null,
      "outputs": []
    },
    {
      "cell_type": "code",
      "execution_count": null,
      "metadata": {
        "colab": {
          "base_uri": "https://localhost:8080/"
        },
        "id": "i654C9bYuZ-g",
        "outputId": "5ec20b4a-321c-4e31-ebb1-ca5b5f9b16fe"
      },
      "outputs": [
        {
          "output_type": "stream",
          "name": "stdout",
          "text": [
            "Generating BarChartRace, plotting ['Belgium', 'Brazil', 'Canada', 'China', 'France', 'Germany', 'India', 'Indonesia', 'Iran', 'Ireland', 'Italy', 'Mexico', 'Netherlands', 'Portugal', 'Spain', 'Sweden', 'Switzerland', 'Turkey', 'USA', 'United Kingdom']\n"
          ]
        },
        {
          "output_type": "stream",
          "name": "stderr",
          "text": [
            "/usr/local/lib/python3.9/dist-packages/pandas_alive/charts.py:221: UserWarning: FixedFormatter should only be used together with FixedLocator\n",
            "  ax.set_yticklabels(self.df.columns)\n",
            "/usr/local/lib/python3.9/dist-packages/pandas_alive/charts.py:222: UserWarning: FixedFormatter should only be used together with FixedLocator\n",
            "  ax.set_xticklabels([max_val] * len(ax.get_xticks()))\n",
            "/usr/local/lib/python3.9/dist-packages/pandas_alive/charts.py:68: UserWarning: Plotting too many bars may result in undesirable output, use `n_visible=15` to limit number of bars\n",
            "  warnings.warn(\n"
          ]
        },
        {
          "output_type": "execute_result",
          "data": {
            "text/plain": [
              "BarChartRace(df=                     Belgium  Brazil  Canada   China   France  Germany  India  \\\n",
              "date                                                                            \n",
              "2020-02-26 00:00:00      NaN     NaN     NaN  2717.0      2.0      NaN    NaN   \n",
              "2020-02-26 04:48:00      NaN     NaN     NaN  2722.8      2.0      NaN    NaN   \n",
              "2020-02-26 09:36:00      NaN     NaN     NaN  2728.6      2.0      NaN    NaN   \n",
              "2020-02-26 14:24:00      NaN     NaN     NaN  2734.4      2.0      NaN    NaN   \n",
              "2020-02-26 19:12:00      NaN     NaN     NaN  2740.2      2.0      NaN    NaN   \n",
              "...                      ...     ...     ...     ...      ...      ...    ...   \n",
              "2020-04-21 04:48:00   6050.8  2774.0  1941.4  4636.0  20937.8   5082.2  652.2   \n",
              "2020-04-21 09:36:00   6103.6  2807.0  1974.8  4636.0  21046.6   5131.4  659.4   \n",
              "2020-04-21 14:24:00   6156.4  2840.0  2008.2  4636.0  21155.4   5180.6  666.6   \n",
              "2020-04-21 19:12:00   6209.2  2873.0  2041.6  4636.0  21264.2   5229.8  673.8   \n",
              "2020-04-22 00:00:00   6262.0  2906.0  2075.0  4636.0  21373.0   5279.0  681.0   \n",
              "\n",
              "                     Indonesia    Iran  Ireland    Italy  Mexico  Netherlands  \\\n",
              "date                                                                            \n",
              "2020-02-26 00:00:00        NaN    19.0      NaN     12.0     NaN          NaN   \n",
              "2020-02-26 04:48:00        NaN    20.4      NaN     13.0     NaN          NaN   \n",
              "2020-02-26 09:36:00        NaN    21.8      NaN     14.0     NaN          NaN   \n",
              "2020-02-26 14:24:00        NaN    23.2      NaN     15.0     NaN          NaN   \n",
              "2020-02-26 19:12:00        NaN    24.6      NaN     16.0     NaN          NaN   \n",
              "...                        ...     ...      ...      ...     ...          ...   \n",
              "2020-04-21 04:48:00      619.8  5315.8    737.8  24735.4   741.0       3956.8   \n",
              "2020-04-21 09:36:00      623.6  5334.6    745.6  24822.8   770.0       3984.6   \n",
              "2020-04-21 14:24:00      627.4  5353.4    753.4  24910.2   799.0       4012.4   \n",
              "2020-04-21 19:12:00      631.2  5372.2    761.2  24997.6   828.0       4040.2   \n",
              "2020-04-22 00:00:00      635.0  5391.0    769.0  25085.0   857.0       4068.0   \n",
              "\n",
              "                     Portugal    Spain  Sweden  Switzerland  Turkey      USA  \\\n",
              "date                                                                           \n",
              "2020-02-26 00:00:00       NaN      NaN     NaN          NaN     NaN      NaN   \n",
              "2020-02-26 04:48:00       NaN      NaN     NaN          NaN     NaN      NaN   \n",
              "2020-02-26 09:36:00       NaN      NaN     NaN          NaN     NaN      NaN   \n",
              "2020-02-26 14:24:00       NaN      NaN     NaN          NaN     NaN      NaN   \n",
              "2020-02-26 19:12:00       NaN      NaN     NaN          NaN     NaN      NaN   \n",
              "...                       ...      ...     ...          ...     ...      ...   \n",
              "2020-04-21 04:48:00     766.6  21369.0  1799.4       1484.2  2282.4  44883.2   \n",
              "2020-04-21 09:36:00     771.2  21456.0  1833.8       1490.4  2305.8  45319.4   \n",
              "2020-04-21 14:24:00     775.8  21543.0  1868.2       1496.6  2329.2  45755.6   \n",
              "2020-04-21 19:12:00     780.4  21630.0  1902.6       1502.8  2352.6  46191.8   \n",
              "2020-04-22 00:00:00     785.0  21717.0  1937.0       1509.0  2376.0  46628.0   \n",
              "\n",
              "                     United Kingdom  \n",
              "date                                 \n",
              "2020-02-26 00:00:00             NaN  \n",
              "2020-02-26 04:48:00             NaN  \n",
              "2020-02-26 09:36:00             NaN  \n",
              "2020-02-26 14:24:00             NaN  \n",
              "2020-02-26 19:12:00             NaN  \n",
              "...                             ...  \n",
              "2020-04-21 04:48:00         17532.6  \n",
              "2020-04-21 09:36:00         17687.2  \n",
              "2020-04-21 14:24:00         17841.8  \n",
              "2020-04-21 19:12:00         17996.4  \n",
              "2020-04-22 00:00:00         18151.0  \n",
              "\n",
              "[281 rows x 20 columns], interpolate_period=True, steps_per_period=5, period_length=500, period_fmt='%d/%m/%Y', figsize=array([6.5, 3.5]), title=None, fig=<Figure size 936x504 with 1 Axes>, cmap='dark24', tick_label_size=7, period_label=True, period_summary_func=None, fixed_max=False, dpi=144, writer=None, enable_progress_bar=False, kwargs={}, orientation='h', sort='desc', label_bars=True, bar_label_size=7, n_visible=20, fixed_order=False, perpendicular_bar_func=None)"
            ]
          },
          "metadata": {},
          "execution_count": 3
        }
      ],
      "source": [
        "covid_df = pandas_alive.load_dataset()\n",
        "\n",
        "covid_df.plot_animated(filename='covid_df.gif')"
      ]
    },
    {
      "cell_type": "markdown",
      "source": [
        "# New Section"
      ],
      "metadata": {
        "id": "8KbT39VzwPdg"
      }
    }
  ]
}