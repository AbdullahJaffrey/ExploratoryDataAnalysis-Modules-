{
 "cells": [
  {
   "cell_type": "code",
   "execution_count": 1,
   "id": "572c6749",
   "metadata": {},
   "outputs": [
    {
     "name": "stdout",
     "output_type": "stream",
     "text": [
      "Collecting drawdata\n",
      "  Downloading drawdata-0.2.0-py2.py3-none-any.whl (2.0 kB)\n",
      "Requirement already satisfied: jupyter>=1.0.0 in c:\\users\\abdul\\anaconda3\\lib\\site-packages (from drawdata) (1.0.0)\n",
      "Requirement already satisfied: ipython>=7.16.1 in c:\\users\\abdul\\anaconda3\\lib\\site-packages (from drawdata) (7.31.1)\n",
      "Requirement already satisfied: traitlets>=4.2 in c:\\users\\abdul\\anaconda3\\lib\\site-packages (from ipython>=7.16.1->drawdata) (5.1.1)\n",
      "Requirement already satisfied: pygments in c:\\users\\abdul\\anaconda3\\lib\\site-packages (from ipython>=7.16.1->drawdata) (2.11.2)\n",
      "Requirement already satisfied: setuptools>=18.5 in c:\\users\\abdul\\anaconda3\\lib\\site-packages (from ipython>=7.16.1->drawdata) (63.4.1)\n",
      "Requirement already satisfied: jedi>=0.16 in c:\\users\\abdul\\anaconda3\\lib\\site-packages (from ipython>=7.16.1->drawdata) (0.18.1)\n",
      "Requirement already satisfied: pickleshare in c:\\users\\abdul\\anaconda3\\lib\\site-packages (from ipython>=7.16.1->drawdata) (0.7.5)\n",
      "Requirement already satisfied: colorama in c:\\users\\abdul\\anaconda3\\lib\\site-packages (from ipython>=7.16.1->drawdata) (0.4.5)\n",
      "Requirement already satisfied: decorator in c:\\users\\abdul\\anaconda3\\lib\\site-packages (from ipython>=7.16.1->drawdata) (5.1.1)\n",
      "Requirement already satisfied: prompt-toolkit!=3.0.0,!=3.0.1,<3.1.0,>=2.0.0 in c:\\users\\abdul\\anaconda3\\lib\\site-packages (from ipython>=7.16.1->drawdata) (3.0.20)\n",
      "Requirement already satisfied: matplotlib-inline in c:\\users\\abdul\\anaconda3\\lib\\site-packages (from ipython>=7.16.1->drawdata) (0.1.6)\n",
      "Requirement already satisfied: backcall in c:\\users\\abdul\\anaconda3\\lib\\site-packages (from ipython>=7.16.1->drawdata) (0.2.0)\n",
      "Requirement already satisfied: qtconsole in c:\\users\\abdul\\anaconda3\\lib\\site-packages (from jupyter>=1.0.0->drawdata) (5.2.2)\n",
      "Requirement already satisfied: ipykernel in c:\\users\\abdul\\anaconda3\\lib\\site-packages (from jupyter>=1.0.0->drawdata) (6.15.2)\n",
      "Requirement already satisfied: jupyter-console in c:\\users\\abdul\\anaconda3\\lib\\site-packages (from jupyter>=1.0.0->drawdata) (6.4.3)\n",
      "Requirement already satisfied: nbconvert in c:\\users\\abdul\\anaconda3\\lib\\site-packages (from jupyter>=1.0.0->drawdata) (6.4.4)\n",
      "Requirement already satisfied: notebook in c:\\users\\abdul\\anaconda3\\lib\\site-packages (from jupyter>=1.0.0->drawdata) (6.4.12)\n",
      "Requirement already satisfied: ipywidgets in c:\\users\\abdul\\anaconda3\\lib\\site-packages (from jupyter>=1.0.0->drawdata) (7.6.5)\n",
      "Requirement already satisfied: parso<0.9.0,>=0.8.0 in c:\\users\\abdul\\anaconda3\\lib\\site-packages (from jedi>=0.16->ipython>=7.16.1->drawdata) (0.8.3)\n",
      "Requirement already satisfied: wcwidth in c:\\users\\abdul\\anaconda3\\lib\\site-packages (from prompt-toolkit!=3.0.0,!=3.0.1,<3.1.0,>=2.0.0->ipython>=7.16.1->drawdata) (0.2.5)\n",
      "Requirement already satisfied: debugpy>=1.0 in c:\\users\\abdul\\anaconda3\\lib\\site-packages (from ipykernel->jupyter>=1.0.0->drawdata) (1.5.1)\n",
      "Requirement already satisfied: jupyter-client>=6.1.12 in c:\\users\\abdul\\anaconda3\\lib\\site-packages (from ipykernel->jupyter>=1.0.0->drawdata) (7.3.4)\n",
      "Requirement already satisfied: psutil in c:\\users\\abdul\\anaconda3\\lib\\site-packages (from ipykernel->jupyter>=1.0.0->drawdata) (5.9.0)\n",
      "Requirement already satisfied: tornado>=6.1 in c:\\users\\abdul\\anaconda3\\lib\\site-packages (from ipykernel->jupyter>=1.0.0->drawdata) (6.1)\n",
      "Requirement already satisfied: packaging in c:\\users\\abdul\\anaconda3\\lib\\site-packages (from ipykernel->jupyter>=1.0.0->drawdata) (21.3)\n",
      "Requirement already satisfied: nest-asyncio in c:\\users\\abdul\\anaconda3\\lib\\site-packages (from ipykernel->jupyter>=1.0.0->drawdata) (1.5.5)\n",
      "Requirement already satisfied: pyzmq>=17 in c:\\users\\abdul\\anaconda3\\lib\\site-packages (from ipykernel->jupyter>=1.0.0->drawdata) (23.2.0)\n",
      "Requirement already satisfied: jupyterlab-widgets>=1.0.0 in c:\\users\\abdul\\anaconda3\\lib\\site-packages (from ipywidgets->jupyter>=1.0.0->drawdata) (1.0.0)\n",
      "Requirement already satisfied: nbformat>=4.2.0 in c:\\users\\abdul\\anaconda3\\lib\\site-packages (from ipywidgets->jupyter>=1.0.0->drawdata) (5.5.0)\n",
      "Requirement already satisfied: widgetsnbextension~=3.5.0 in c:\\users\\abdul\\anaconda3\\lib\\site-packages (from ipywidgets->jupyter>=1.0.0->drawdata) (3.5.2)\n",
      "Requirement already satisfied: ipython-genutils~=0.2.0 in c:\\users\\abdul\\anaconda3\\lib\\site-packages (from ipywidgets->jupyter>=1.0.0->drawdata) (0.2.0)\n",
      "Requirement already satisfied: beautifulsoup4 in c:\\users\\abdul\\anaconda3\\lib\\site-packages (from nbconvert->jupyter>=1.0.0->drawdata) (4.11.1)\n",
      "Requirement already satisfied: bleach in c:\\users\\abdul\\anaconda3\\lib\\site-packages (from nbconvert->jupyter>=1.0.0->drawdata) (4.1.0)\n",
      "Requirement already satisfied: entrypoints>=0.2.2 in c:\\users\\abdul\\anaconda3\\lib\\site-packages (from nbconvert->jupyter>=1.0.0->drawdata) (0.4)\n",
      "Requirement already satisfied: defusedxml in c:\\users\\abdul\\anaconda3\\lib\\site-packages (from nbconvert->jupyter>=1.0.0->drawdata) (0.7.1)\n",
      "Requirement already satisfied: nbclient<0.6.0,>=0.5.0 in c:\\users\\abdul\\anaconda3\\lib\\site-packages (from nbconvert->jupyter>=1.0.0->drawdata) (0.5.13)\n",
      "Requirement already satisfied: jinja2>=2.4 in c:\\users\\abdul\\anaconda3\\lib\\site-packages (from nbconvert->jupyter>=1.0.0->drawdata) (2.11.3)\n",
      "Requirement already satisfied: jupyterlab-pygments in c:\\users\\abdul\\anaconda3\\lib\\site-packages (from nbconvert->jupyter>=1.0.0->drawdata) (0.1.2)\n",
      "Requirement already satisfied: testpath in c:\\users\\abdul\\anaconda3\\lib\\site-packages (from nbconvert->jupyter>=1.0.0->drawdata) (0.6.0)\n",
      "Requirement already satisfied: mistune<2,>=0.8.1 in c:\\users\\abdul\\anaconda3\\lib\\site-packages (from nbconvert->jupyter>=1.0.0->drawdata) (0.8.4)\n",
      "Requirement already satisfied: pandocfilters>=1.4.1 in c:\\users\\abdul\\anaconda3\\lib\\site-packages (from nbconvert->jupyter>=1.0.0->drawdata) (1.5.0)\n",
      "Requirement already satisfied: jupyter-core in c:\\users\\abdul\\anaconda3\\lib\\site-packages (from nbconvert->jupyter>=1.0.0->drawdata) (4.11.1)\n",
      "Requirement already satisfied: argon2-cffi in c:\\users\\abdul\\anaconda3\\lib\\site-packages (from notebook->jupyter>=1.0.0->drawdata) (21.3.0)\n",
      "Requirement already satisfied: prometheus-client in c:\\users\\abdul\\anaconda3\\lib\\site-packages (from notebook->jupyter>=1.0.0->drawdata) (0.14.1)\n",
      "Requirement already satisfied: terminado>=0.8.3 in c:\\users\\abdul\\anaconda3\\lib\\site-packages (from notebook->jupyter>=1.0.0->drawdata) (0.13.1)\n",
      "Requirement already satisfied: Send2Trash>=1.8.0 in c:\\users\\abdul\\anaconda3\\lib\\site-packages (from notebook->jupyter>=1.0.0->drawdata) (1.8.0)\n",
      "Requirement already satisfied: qtpy in c:\\users\\abdul\\anaconda3\\lib\\site-packages (from qtconsole->jupyter>=1.0.0->drawdata) (2.2.0)\n",
      "Requirement already satisfied: MarkupSafe>=0.23 in c:\\users\\abdul\\anaconda3\\lib\\site-packages (from jinja2>=2.4->nbconvert->jupyter>=1.0.0->drawdata) (2.0.1)\n",
      "Requirement already satisfied: python-dateutil>=2.8.2 in c:\\users\\abdul\\anaconda3\\lib\\site-packages (from jupyter-client>=6.1.12->ipykernel->jupyter>=1.0.0->drawdata) (2.8.2)\n",
      "Requirement already satisfied: pywin32>=1.0 in c:\\users\\abdul\\anaconda3\\lib\\site-packages (from jupyter-core->nbconvert->jupyter>=1.0.0->drawdata) (302)\n",
      "Requirement already satisfied: jsonschema>=2.6 in c:\\users\\abdul\\anaconda3\\lib\\site-packages (from nbformat>=4.2.0->ipywidgets->jupyter>=1.0.0->drawdata) (4.16.0)\n",
      "Requirement already satisfied: fastjsonschema in c:\\users\\abdul\\anaconda3\\lib\\site-packages (from nbformat>=4.2.0->ipywidgets->jupyter>=1.0.0->drawdata) (2.16.2)\n",
      "Requirement already satisfied: pywinpty>=1.1.0 in c:\\users\\abdul\\anaconda3\\lib\\site-packages (from terminado>=0.8.3->notebook->jupyter>=1.0.0->drawdata) (2.0.2)\n",
      "Requirement already satisfied: argon2-cffi-bindings in c:\\users\\abdul\\anaconda3\\lib\\site-packages (from argon2-cffi->notebook->jupyter>=1.0.0->drawdata) (21.2.0)\n",
      "Requirement already satisfied: soupsieve>1.2 in c:\\users\\abdul\\anaconda3\\lib\\site-packages (from beautifulsoup4->nbconvert->jupyter>=1.0.0->drawdata) (2.3.1)\n",
      "Requirement already satisfied: webencodings in c:\\users\\abdul\\anaconda3\\lib\\site-packages (from bleach->nbconvert->jupyter>=1.0.0->drawdata) (0.5.1)\n",
      "Requirement already satisfied: six>=1.9.0 in c:\\users\\abdul\\anaconda3\\lib\\site-packages (from bleach->nbconvert->jupyter>=1.0.0->drawdata) (1.16.0)\n",
      "Requirement already satisfied: pyparsing!=3.0.5,>=2.0.2 in c:\\users\\abdul\\anaconda3\\lib\\site-packages (from packaging->ipykernel->jupyter>=1.0.0->drawdata) (3.0.9)\n",
      "Requirement already satisfied: pyrsistent!=0.17.0,!=0.17.1,!=0.17.2,>=0.14.0 in c:\\users\\abdul\\anaconda3\\lib\\site-packages (from jsonschema>=2.6->nbformat>=4.2.0->ipywidgets->jupyter>=1.0.0->drawdata) (0.18.0)\n",
      "Requirement already satisfied: attrs>=17.4.0 in c:\\users\\abdul\\anaconda3\\lib\\site-packages (from jsonschema>=2.6->nbformat>=4.2.0->ipywidgets->jupyter>=1.0.0->drawdata) (21.4.0)\n",
      "Requirement already satisfied: cffi>=1.0.1 in c:\\users\\abdul\\anaconda3\\lib\\site-packages (from argon2-cffi-bindings->argon2-cffi->notebook->jupyter>=1.0.0->drawdata) (1.15.1)\n",
      "Requirement already satisfied: pycparser in c:\\users\\abdul\\anaconda3\\lib\\site-packages (from cffi>=1.0.1->argon2-cffi-bindings->argon2-cffi->notebook->jupyter>=1.0.0->drawdata) (2.21)\n",
      "Installing collected packages: drawdata\n",
      "Successfully installed drawdata-0.2.0\n"
     ]
    }
   ],
   "source": [
    "!pip install drawdata"
   ]
  },
  {
   "cell_type": "code",
   "execution_count": 2,
   "id": "9e46ec4a",
   "metadata": {},
   "outputs": [],
   "source": [
    "from drawdata import draw_scatter"
   ]
  },
  {
   "cell_type": "code",
   "execution_count": 3,
   "id": "ab1da2a4",
   "metadata": {},
   "outputs": [
    {
     "data": {
      "text/html": [
       "\n",
       "        <iframe\n",
       "            width=\"800\"\n",
       "            height=\"550\"\n",
       "            src=\"https://drawdata.xyz/scatter.html\"\n",
       "            frameborder=\"0\"\n",
       "            allowfullscreen\n",
       "            \n",
       "        ></iframe>\n",
       "        "
      ],
      "text/plain": [
       "<IPython.lib.display.IFrame at 0x1c77b796490>"
      ]
     },
     "execution_count": 3,
     "metadata": {},
     "output_type": "execute_result"
    }
   ],
   "source": [
    "draw_scatter()"
   ]
  },
  {
   "cell_type": "code",
   "execution_count": 4,
   "id": "f6cbc8d4",
   "metadata": {},
   "outputs": [],
   "source": [
    "# Done"
   ]
  }
 ],
 "metadata": {
  "kernelspec": {
   "display_name": "Python 3 (ipykernel)",
   "language": "python",
   "name": "python3"
  },
  "language_info": {
   "codemirror_mode": {
    "name": "ipython",
    "version": 3
   },
   "file_extension": ".py",
   "mimetype": "text/x-python",
   "name": "python",
   "nbconvert_exporter": "python",
   "pygments_lexer": "ipython3",
   "version": "3.9.13"
  }
 },
 "nbformat": 4,
 "nbformat_minor": 5
}
