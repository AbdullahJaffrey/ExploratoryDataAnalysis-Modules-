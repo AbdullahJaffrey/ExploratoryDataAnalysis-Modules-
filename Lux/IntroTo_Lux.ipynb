{
 "cells": [
  {
   "cell_type": "code",
   "execution_count": 1,
   "id": "ca7e433a",
   "metadata": {},
   "outputs": [
    {
     "name": "stdout",
     "output_type": "stream",
     "text": [
      "Requirement already satisfied: lux in c:\\users\\abdul\\anaconda3\\lib\\site-packages (0.5.1)\n",
      "Requirement already satisfied: lux-api in c:\\users\\abdul\\anaconda3\\lib\\site-packages (from lux) (0.5.1)\n",
      "Requirement already satisfied: lux-widget in c:\\users\\abdul\\anaconda3\\lib\\site-packages (from lux) (0.1.11)\n",
      "Requirement already satisfied: pandas in c:\\users\\abdul\\anaconda3\\lib\\site-packages (from lux-api->lux) (1.4.4)\n",
      "Requirement already satisfied: autopep8>=1.5 in c:\\users\\abdul\\anaconda3\\lib\\site-packages (from lux-api->lux) (1.6.0)\n",
      "Requirement already satisfied: scipy>=1.3.3 in c:\\users\\abdul\\anaconda3\\lib\\site-packages (from lux-api->lux) (1.9.1)\n",
      "Requirement already satisfied: scikit-learn>=0.22 in c:\\users\\abdul\\anaconda3\\lib\\site-packages (from lux-api->lux) (1.1.3)\n",
      "Requirement already satisfied: numpy>=1.16.5 in c:\\users\\abdul\\anaconda3\\lib\\site-packages (from lux-api->lux) (1.21.5)\n",
      "Requirement already satisfied: altair>=4.0.0 in c:\\users\\abdul\\anaconda3\\lib\\site-packages (from lux-api->lux) (4.2.2)\n",
      "Requirement already satisfied: iso3166 in c:\\users\\abdul\\anaconda3\\lib\\site-packages (from lux-api->lux) (2.1.1)\n",
      "Requirement already satisfied: psutil>=5.9.0 in c:\\users\\abdul\\anaconda3\\lib\\site-packages (from lux-api->lux) (5.9.0)\n",
      "Requirement already satisfied: sh in c:\\users\\abdul\\anaconda3\\lib\\site-packages (from lux-api->lux) (2.0.3)\n",
      "Requirement already satisfied: matplotlib>=3.0.0 in c:\\users\\abdul\\anaconda3\\lib\\site-packages (from lux-api->lux) (3.5.2)\n",
      "Requirement already satisfied: ipywidgets>=7.5.0 in c:\\users\\abdul\\anaconda3\\lib\\site-packages (from lux-widget->lux) (7.6.5)\n",
      "Requirement already satisfied: notebook>=4.0.0 in c:\\users\\abdul\\anaconda3\\lib\\site-packages (from lux-widget->lux) (6.4.12)\n",
      "Requirement already satisfied: jsonschema>=3.0 in c:\\users\\abdul\\anaconda3\\lib\\site-packages (from altair>=4.0.0->lux-api->lux) (4.16.0)\n",
      "Requirement already satisfied: jinja2 in c:\\users\\abdul\\anaconda3\\lib\\site-packages (from altair>=4.0.0->lux-api->lux) (2.11.3)\n",
      "Requirement already satisfied: entrypoints in c:\\users\\abdul\\anaconda3\\lib\\site-packages (from altair>=4.0.0->lux-api->lux) (0.4)\n",
      "Requirement already satisfied: toolz in c:\\users\\abdul\\anaconda3\\lib\\site-packages (from altair>=4.0.0->lux-api->lux) (0.11.2)\n",
      "Requirement already satisfied: toml in c:\\users\\abdul\\anaconda3\\lib\\site-packages (from autopep8>=1.5->lux-api->lux) (0.10.2)\n",
      "Requirement already satisfied: pycodestyle>=2.8.0 in c:\\users\\abdul\\anaconda3\\lib\\site-packages (from autopep8>=1.5->lux-api->lux) (2.8.0)\n",
      "Requirement already satisfied: ipython>=4.0.0 in c:\\users\\abdul\\anaconda3\\lib\\site-packages (from ipywidgets>=7.5.0->lux-widget->lux) (7.31.1)\n",
      "Requirement already satisfied: nbformat>=4.2.0 in c:\\users\\abdul\\anaconda3\\lib\\site-packages (from ipywidgets>=7.5.0->lux-widget->lux) (5.5.0)\n",
      "Requirement already satisfied: jupyterlab-widgets>=1.0.0 in c:\\users\\abdul\\anaconda3\\lib\\site-packages (from ipywidgets>=7.5.0->lux-widget->lux) (1.0.0)\n",
      "Requirement already satisfied: traitlets>=4.3.1 in c:\\users\\abdul\\anaconda3\\lib\\site-packages (from ipywidgets>=7.5.0->lux-widget->lux) (5.1.1)\n",
      "Requirement already satisfied: ipython-genutils~=0.2.0 in c:\\users\\abdul\\anaconda3\\lib\\site-packages (from ipywidgets>=7.5.0->lux-widget->lux) (0.2.0)\n",
      "Requirement already satisfied: widgetsnbextension~=3.5.0 in c:\\users\\abdul\\anaconda3\\lib\\site-packages (from ipywidgets>=7.5.0->lux-widget->lux) (3.5.2)\n",
      "Requirement already satisfied: ipykernel>=4.5.1 in c:\\users\\abdul\\anaconda3\\lib\\site-packages (from ipywidgets>=7.5.0->lux-widget->lux) (6.15.2)\n",
      "Requirement already satisfied: pillow>=6.2.0 in c:\\users\\abdul\\anaconda3\\lib\\site-packages (from matplotlib>=3.0.0->lux-api->lux) (9.2.0)\n",
      "Requirement already satisfied: python-dateutil>=2.7 in c:\\users\\abdul\\anaconda3\\lib\\site-packages (from matplotlib>=3.0.0->lux-api->lux) (2.8.2)\n",
      "Requirement already satisfied: packaging>=20.0 in c:\\users\\abdul\\anaconda3\\lib\\site-packages (from matplotlib>=3.0.0->lux-api->lux) (21.3)\n",
      "Requirement already satisfied: kiwisolver>=1.0.1 in c:\\users\\abdul\\anaconda3\\lib\\site-packages (from matplotlib>=3.0.0->lux-api->lux) (1.4.2)\n",
      "Requirement already satisfied: fonttools>=4.22.0 in c:\\users\\abdul\\anaconda3\\lib\\site-packages (from matplotlib>=3.0.0->lux-api->lux) (4.25.0)\n",
      "Requirement already satisfied: pyparsing>=2.2.1 in c:\\users\\abdul\\anaconda3\\lib\\site-packages (from matplotlib>=3.0.0->lux-api->lux) (3.0.9)\n",
      "Requirement already satisfied: cycler>=0.10 in c:\\users\\abdul\\anaconda3\\lib\\site-packages (from matplotlib>=3.0.0->lux-api->lux) (0.11.0)\n",
      "Requirement already satisfied: nest-asyncio>=1.5 in c:\\users\\abdul\\anaconda3\\lib\\site-packages (from notebook>=4.0.0->lux-widget->lux) (1.5.5)\n",
      "Requirement already satisfied: Send2Trash>=1.8.0 in c:\\users\\abdul\\anaconda3\\lib\\site-packages (from notebook>=4.0.0->lux-widget->lux) (1.8.0)\n",
      "Requirement already satisfied: nbconvert>=5 in c:\\users\\abdul\\anaconda3\\lib\\site-packages (from notebook>=4.0.0->lux-widget->lux) (6.4.4)\n",
      "Requirement already satisfied: argon2-cffi in c:\\users\\abdul\\anaconda3\\lib\\site-packages (from notebook>=4.0.0->lux-widget->lux) (21.3.0)\n",
      "Requirement already satisfied: prometheus-client in c:\\users\\abdul\\anaconda3\\lib\\site-packages (from notebook>=4.0.0->lux-widget->lux) (0.14.1)\n",
      "Requirement already satisfied: pyzmq>=17 in c:\\users\\abdul\\anaconda3\\lib\\site-packages (from notebook>=4.0.0->lux-widget->lux) (23.2.0)\n",
      "Requirement already satisfied: jupyter-client>=5.3.4 in c:\\users\\abdul\\anaconda3\\lib\\site-packages (from notebook>=4.0.0->lux-widget->lux) (7.3.4)\n",
      "Requirement already satisfied: jupyter-core>=4.6.1 in c:\\users\\abdul\\anaconda3\\lib\\site-packages (from notebook>=4.0.0->lux-widget->lux) (4.11.1)\n",
      "Requirement already satisfied: terminado>=0.8.3 in c:\\users\\abdul\\anaconda3\\lib\\site-packages (from notebook>=4.0.0->lux-widget->lux) (0.13.1)\n",
      "Requirement already satisfied: tornado>=6.1 in c:\\users\\abdul\\anaconda3\\lib\\site-packages (from notebook>=4.0.0->lux-widget->lux) (6.1)\n",
      "Requirement already satisfied: pytz>=2020.1 in c:\\users\\abdul\\anaconda3\\lib\\site-packages (from pandas->lux-api->lux) (2022.1)\n",
      "Requirement already satisfied: joblib>=1.0.0 in c:\\users\\abdul\\anaconda3\\lib\\site-packages (from scikit-learn>=0.22->lux-api->lux) (1.2.0)\n",
      "Requirement already satisfied: threadpoolctl>=2.0.0 in c:\\users\\abdul\\anaconda3\\lib\\site-packages (from scikit-learn>=0.22->lux-api->lux) (2.2.0)\n",
      "Requirement already satisfied: debugpy>=1.0 in c:\\users\\abdul\\anaconda3\\lib\\site-packages (from ipykernel>=4.5.1->ipywidgets>=7.5.0->lux-widget->lux) (1.5.1)\n",
      "Requirement already satisfied: matplotlib-inline>=0.1 in c:\\users\\abdul\\anaconda3\\lib\\site-packages (from ipykernel>=4.5.1->ipywidgets>=7.5.0->lux-widget->lux) (0.1.6)\n",
      "Requirement already satisfied: backcall in c:\\users\\abdul\\anaconda3\\lib\\site-packages (from ipython>=4.0.0->ipywidgets>=7.5.0->lux-widget->lux) (0.2.0)\n",
      "Requirement already satisfied: pickleshare in c:\\users\\abdul\\anaconda3\\lib\\site-packages (from ipython>=4.0.0->ipywidgets>=7.5.0->lux-widget->lux) (0.7.5)\n",
      "Requirement already satisfied: decorator in c:\\users\\abdul\\anaconda3\\lib\\site-packages (from ipython>=4.0.0->ipywidgets>=7.5.0->lux-widget->lux) (5.1.1)\n",
      "Requirement already satisfied: prompt-toolkit!=3.0.0,!=3.0.1,<3.1.0,>=2.0.0 in c:\\users\\abdul\\anaconda3\\lib\\site-packages (from ipython>=4.0.0->ipywidgets>=7.5.0->lux-widget->lux) (3.0.20)\n",
      "Requirement already satisfied: colorama in c:\\users\\abdul\\anaconda3\\lib\\site-packages (from ipython>=4.0.0->ipywidgets>=7.5.0->lux-widget->lux) (0.4.5)\n",
      "Requirement already satisfied: pygments in c:\\users\\abdul\\anaconda3\\lib\\site-packages (from ipython>=4.0.0->ipywidgets>=7.5.0->lux-widget->lux) (2.11.2)\n",
      "Requirement already satisfied: setuptools>=18.5 in c:\\users\\abdul\\anaconda3\\lib\\site-packages (from ipython>=4.0.0->ipywidgets>=7.5.0->lux-widget->lux) (63.4.1)\n",
      "Requirement already satisfied: jedi>=0.16 in c:\\users\\abdul\\anaconda3\\lib\\site-packages (from ipython>=4.0.0->ipywidgets>=7.5.0->lux-widget->lux) (0.18.1)\n",
      "Requirement already satisfied: attrs>=17.4.0 in c:\\users\\abdul\\anaconda3\\lib\\site-packages (from jsonschema>=3.0->altair>=4.0.0->lux-api->lux) (21.4.0)\n",
      "Requirement already satisfied: pyrsistent!=0.17.0,!=0.17.1,!=0.17.2,>=0.14.0 in c:\\users\\abdul\\anaconda3\\lib\\site-packages (from jsonschema>=3.0->altair>=4.0.0->lux-api->lux) (0.18.0)\n",
      "Requirement already satisfied: pywin32>=1.0 in c:\\users\\abdul\\anaconda3\\lib\\site-packages (from jupyter-core>=4.6.1->notebook>=4.0.0->lux-widget->lux) (302)\n",
      "Requirement already satisfied: pandocfilters>=1.4.1 in c:\\users\\abdul\\anaconda3\\lib\\site-packages (from nbconvert>=5->notebook>=4.0.0->lux-widget->lux) (1.5.0)\n",
      "Requirement already satisfied: jupyterlab-pygments in c:\\users\\abdul\\anaconda3\\lib\\site-packages (from nbconvert>=5->notebook>=4.0.0->lux-widget->lux) (0.1.2)\n",
      "Requirement already satisfied: nbclient<0.6.0,>=0.5.0 in c:\\users\\abdul\\anaconda3\\lib\\site-packages (from nbconvert>=5->notebook>=4.0.0->lux-widget->lux) (0.5.13)\n",
      "Requirement already satisfied: testpath in c:\\users\\abdul\\anaconda3\\lib\\site-packages (from nbconvert>=5->notebook>=4.0.0->lux-widget->lux) (0.6.0)\n",
      "Requirement already satisfied: beautifulsoup4 in c:\\users\\abdul\\anaconda3\\lib\\site-packages (from nbconvert>=5->notebook>=4.0.0->lux-widget->lux) (4.11.1)\n",
      "Requirement already satisfied: mistune<2,>=0.8.1 in c:\\users\\abdul\\anaconda3\\lib\\site-packages (from nbconvert>=5->notebook>=4.0.0->lux-widget->lux) (0.8.4)\n",
      "Requirement already satisfied: bleach in c:\\users\\abdul\\anaconda3\\lib\\site-packages (from nbconvert>=5->notebook>=4.0.0->lux-widget->lux) (4.1.0)\n",
      "Requirement already satisfied: defusedxml in c:\\users\\abdul\\anaconda3\\lib\\site-packages (from nbconvert>=5->notebook>=4.0.0->lux-widget->lux) (0.7.1)\n",
      "Requirement already satisfied: MarkupSafe>=0.23 in c:\\users\\abdul\\anaconda3\\lib\\site-packages (from jinja2->altair>=4.0.0->lux-api->lux) (2.0.1)\n",
      "Requirement already satisfied: fastjsonschema in c:\\users\\abdul\\anaconda3\\lib\\site-packages (from nbformat>=4.2.0->ipywidgets>=7.5.0->lux-widget->lux) (2.16.2)\n",
      "Requirement already satisfied: six>=1.5 in c:\\users\\abdul\\anaconda3\\lib\\site-packages (from python-dateutil>=2.7->matplotlib>=3.0.0->lux-api->lux) (1.16.0)\n",
      "Requirement already satisfied: pywinpty>=1.1.0 in c:\\users\\abdul\\anaconda3\\lib\\site-packages (from terminado>=0.8.3->notebook>=4.0.0->lux-widget->lux) (2.0.2)\n",
      "Requirement already satisfied: argon2-cffi-bindings in c:\\users\\abdul\\anaconda3\\lib\\site-packages (from argon2-cffi->notebook>=4.0.0->lux-widget->lux) (21.2.0)\n",
      "Requirement already satisfied: parso<0.9.0,>=0.8.0 in c:\\users\\abdul\\anaconda3\\lib\\site-packages (from jedi>=0.16->ipython>=4.0.0->ipywidgets>=7.5.0->lux-widget->lux) (0.8.3)\n",
      "Requirement already satisfied: wcwidth in c:\\users\\abdul\\anaconda3\\lib\\site-packages (from prompt-toolkit!=3.0.0,!=3.0.1,<3.1.0,>=2.0.0->ipython>=4.0.0->ipywidgets>=7.5.0->lux-widget->lux) (0.2.5)\n",
      "Requirement already satisfied: cffi>=1.0.1 in c:\\users\\abdul\\anaconda3\\lib\\site-packages (from argon2-cffi-bindings->argon2-cffi->notebook>=4.0.0->lux-widget->lux) (1.15.1)\n",
      "Requirement already satisfied: soupsieve>1.2 in c:\\users\\abdul\\anaconda3\\lib\\site-packages (from beautifulsoup4->nbconvert>=5->notebook>=4.0.0->lux-widget->lux) (2.3.1)\n",
      "Requirement already satisfied: webencodings in c:\\users\\abdul\\anaconda3\\lib\\site-packages (from bleach->nbconvert>=5->notebook>=4.0.0->lux-widget->lux) (0.5.1)\n",
      "Requirement already satisfied: pycparser in c:\\users\\abdul\\anaconda3\\lib\\site-packages (from cffi>=1.0.1->argon2-cffi-bindings->argon2-cffi->notebook>=4.0.0->lux-widget->lux) (2.21)\n"
     ]
    }
   ],
   "source": [
    "!pip install lux"
   ]
  },
  {
   "cell_type": "code",
   "execution_count": 1,
   "id": "96fbb8cc",
   "metadata": {},
   "outputs": [],
   "source": [
    "import lux"
   ]
  },
  {
   "cell_type": "markdown",
   "id": "f4e09e45",
   "metadata": {},
   "source": [
    "#### If Toggle button is not working. Then, Go to Anaconda Prompt and write these commands over there!\n",
    "\n",
    "pip uninstall lux-api"
   ]
  },
  {
   "cell_type": "markdown",
   "id": "aa72366d",
   "metadata": {},
   "source": [
    "!pip uninstall lux-widget"
   ]
  },
  {
   "cell_type": "markdown",
   "id": "5d63d9a2",
   "metadata": {},
   "source": [
    "!pip install lux-api"
   ]
  },
  {
   "cell_type": "markdown",
   "id": "d979c17f",
   "metadata": {},
   "source": [
    "jupyter nbextension install --py luxwidget"
   ]
  },
  {
   "cell_type": "markdown",
   "id": "b4fe5bd8",
   "metadata": {},
   "source": [
    "jupyter nbextension enable --py luxwidget"
   ]
  },
  {
   "cell_type": "code",
   "execution_count": 2,
   "id": "750a044b",
   "metadata": {},
   "outputs": [],
   "source": [
    "import seaborn as sns"
   ]
  },
  {
   "cell_type": "code",
   "execution_count": 3,
   "id": "5a3f3167",
   "metadata": {},
   "outputs": [],
   "source": [
    "data = sns.load_dataset( 'taxis')"
   ]
  },
  {
   "cell_type": "code",
   "execution_count": 4,
   "id": "6f6bb708",
   "metadata": {},
   "outputs": [],
   "source": [
    "import pandas as pd"
   ]
  },
  {
   "cell_type": "code",
   "execution_count": 5,
   "id": "3365ec07",
   "metadata": {},
   "outputs": [],
   "source": [
    "import plotly.express as px"
   ]
  },
  {
   "cell_type": "code",
   "execution_count": 6,
   "id": "0086b4bc",
   "metadata": {},
   "outputs": [
    {
     "name": "stderr",
     "output_type": "stream",
     "text": [
      "C:\\Users\\abdul\\anaconda3\\lib\\site-packages\\lux\\executor\\PandasExecutor.py:448: UserWarning:\n",
      "Lux detects that attributes ['pickup', 'dropoff'] may be temporal.\n",
      "To display visualizations for these attributes accurately, please convert temporal attributes to Datetime objects.\n",
      "For example, you can convert a Year attribute (e.g., 1998, 1971, 1982) using pd.to_datetime by specifying the `format` as '%Y'.\n",
      "\n",
      "Here is a starter template that you can use for converting the temporal fields:\n",
      "\tdf['pickup'] = pd.to_datetime(df['pickup'], format='<replace-with-datetime-format>')\n",
      "\tdf['dropoff'] = pd.to_datetime(df['dropoff'], format='<replace-with-datetime-format>')\n",
      "\n",
      "See more at: https://pandas.pydata.org/pandas-docs/stable/reference/api/pandas.to_datetime.html\n",
      "If dropoff is not a temporal attribute, please use override Lux's automatically detected type:\n",
      "\tdf.set_data_type({'dropoff':'quantitative'})\n"
     ]
    },
    {
     "data": {
      "application/vnd.jupyter.widget-view+json": {
       "model_id": "ca645f7f353e4e4390d8d2edf554b3e6",
       "version_major": 2,
       "version_minor": 0
      },
      "text/plain": [
       "Button(description='Toggle Pandas/Lux', layout=Layout(top='5px', width='140px'), style=ButtonStyle())"
      ]
     },
     "metadata": {},
     "output_type": "display_data"
    },
    {
     "data": {
      "application/vnd.jupyter.widget-view+json": {
       "model_id": "38059a72eb174a3db6a50c0187afe74b",
       "version_major": 2,
       "version_minor": 0
      },
      "text/plain": [
       "Output()"
      ]
     },
     "metadata": {},
     "output_type": "display_data"
    }
   ],
   "source": [
    "data"
   ]
  },
  {
   "cell_type": "markdown",
   "id": "ca62109d",
   "metadata": {},
   "source": [
    "# Done"
   ]
  }
 ],
 "metadata": {
  "kernelspec": {
   "display_name": "Python 3 (ipykernel)",
   "language": "python",
   "name": "python3"
  },
  "language_info": {
   "codemirror_mode": {
    "name": "ipython",
    "version": 3
   },
   "file_extension": ".py",
   "mimetype": "text/x-python",
   "name": "python",
   "nbconvert_exporter": "python",
   "pygments_lexer": "ipython3",
   "version": "3.9.13"
  }
 },
 "nbformat": 4,
 "nbformat_minor": 5
}
