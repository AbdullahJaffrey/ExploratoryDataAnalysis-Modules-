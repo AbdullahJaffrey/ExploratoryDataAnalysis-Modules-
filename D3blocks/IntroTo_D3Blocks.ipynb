{
  "nbformat": 4,
  "nbformat_minor": 0,
  "metadata": {
    "colab": {
      "provenance": []
    },
    "kernelspec": {
      "name": "python3",
      "display_name": "Python 3"
    },
    "language_info": {
      "name": "python"
    }
  },
  "cells": [
    {
      "cell_type": "code",
      "execution_count": null,
      "metadata": {
        "colab": {
          "base_uri": "https://localhost:8080/"
        },
        "id": "QRymkcYAHIqb",
        "outputId": "24fb7ad7-f8cb-4b99-aa54-45b08bdac3d5"
      },
      "outputs": [
        {
          "output_type": "stream",
          "name": "stdout",
          "text": [
            "Looking in indexes: https://pypi.org/simple, https://us-python.pkg.dev/colab-wheels/public/simple/\n",
            "Requirement already satisfied: d3blocks in /usr/local/lib/python3.9/dist-packages (1.2.9)\n",
            "Requirement already satisfied: colourmap>=1.1.10 in /usr/local/lib/python3.9/dist-packages (from d3blocks) (1.1.10)\n",
            "Requirement already satisfied: numpy in /usr/local/lib/python3.9/dist-packages (from d3blocks) (1.22.4)\n",
            "Requirement already satisfied: elasticgraph>=0.1.2 in /usr/local/lib/python3.9/dist-packages (from d3blocks) (0.2.0)\n",
            "Requirement already satisfied: tqdm in /usr/local/lib/python3.9/dist-packages (from d3blocks) (4.65.0)\n",
            "Requirement already satisfied: ismember>=1.0.1 in /usr/local/lib/python3.9/dist-packages (from d3blocks) (1.0.2)\n",
            "Requirement already satisfied: d3graph>=2.3.6 in /usr/local/lib/python3.9/dist-packages (from d3blocks) (2.4.2)\n",
            "Requirement already satisfied: pandas in /usr/local/lib/python3.9/dist-packages (from d3blocks) (1.3.5)\n",
            "Requirement already satisfied: requests in /usr/local/lib/python3.9/dist-packages (from d3blocks) (2.25.1)\n",
            "Requirement already satisfied: jinja2 in /usr/local/lib/python3.9/dist-packages (from d3blocks) (3.1.2)\n",
            "Requirement already satisfied: scikit-learn in /usr/local/lib/python3.9/dist-packages (from d3blocks) (1.2.1)\n",
            "Requirement already satisfied: matplotlib in /usr/local/lib/python3.9/dist-packages (from colourmap>=1.1.10->d3blocks) (3.5.3)\n",
            "Requirement already satisfied: markupsafe==2.0.1 in /usr/local/lib/python3.9/dist-packages (from d3graph>=2.3.6->d3blocks) (2.0.1)\n",
            "Requirement already satisfied: python-louvain in /usr/local/lib/python3.9/dist-packages (from d3graph>=2.3.6->d3blocks) (0.16)\n",
            "Requirement already satisfied: networkx>2 in /usr/local/lib/python3.9/dist-packages (from d3graph>=2.3.6->d3blocks) (3.0)\n",
            "Requirement already satisfied: packaging in /usr/local/lib/python3.9/dist-packages (from d3graph>=2.3.6->d3blocks) (23.0)\n",
            "Requirement already satisfied: python-dateutil>=2.7.3 in /usr/local/lib/python3.9/dist-packages (from pandas->d3blocks) (2.8.2)\n",
            "Requirement already satisfied: pytz>=2017.3 in /usr/local/lib/python3.9/dist-packages (from pandas->d3blocks) (2022.7.1)\n",
            "Requirement already satisfied: idna<3,>=2.5 in /usr/local/lib/python3.9/dist-packages (from requests->d3blocks) (2.10)\n",
            "Requirement already satisfied: chardet<5,>=3.0.2 in /usr/local/lib/python3.9/dist-packages (from requests->d3blocks) (4.0.0)\n",
            "Requirement already satisfied: certifi>=2017.4.17 in /usr/local/lib/python3.9/dist-packages (from requests->d3blocks) (2022.12.7)\n",
            "Requirement already satisfied: urllib3<1.27,>=1.21.1 in /usr/local/lib/python3.9/dist-packages (from requests->d3blocks) (1.26.14)\n",
            "Requirement already satisfied: joblib>=1.1.1 in /usr/local/lib/python3.9/dist-packages (from scikit-learn->d3blocks) (1.2.0)\n",
            "Requirement already satisfied: threadpoolctl>=2.0.0 in /usr/local/lib/python3.9/dist-packages (from scikit-learn->d3blocks) (3.1.0)\n",
            "Requirement already satisfied: scipy>=1.3.2 in /usr/local/lib/python3.9/dist-packages (from scikit-learn->d3blocks) (1.10.1)\n",
            "Requirement already satisfied: six>=1.5 in /usr/local/lib/python3.9/dist-packages (from python-dateutil>=2.7.3->pandas->d3blocks) (1.15.0)\n",
            "Requirement already satisfied: pillow>=6.2.0 in /usr/local/lib/python3.9/dist-packages (from matplotlib->colourmap>=1.1.10->d3blocks) (8.4.0)\n",
            "Requirement already satisfied: pyparsing>=2.2.1 in /usr/local/lib/python3.9/dist-packages (from matplotlib->colourmap>=1.1.10->d3blocks) (3.0.9)\n",
            "Requirement already satisfied: cycler>=0.10 in /usr/local/lib/python3.9/dist-packages (from matplotlib->colourmap>=1.1.10->d3blocks) (0.11.0)\n",
            "Requirement already satisfied: fonttools>=4.22.0 in /usr/local/lib/python3.9/dist-packages (from matplotlib->colourmap>=1.1.10->d3blocks) (4.39.0)\n",
            "Requirement already satisfied: kiwisolver>=1.0.1 in /usr/local/lib/python3.9/dist-packages (from matplotlib->colourmap>=1.1.10->d3blocks) (1.4.4)\n"
          ]
        }
      ],
      "source": [
        "!pip install d3blocks"
      ]
    },
    {
      "cell_type": "code",
      "source": [
        "from d3blocks import D3Blocks\n",
        "\n",
        "# Initialize\n",
        "d3 = D3Blocks()\n",
        "\n",
        "# Import example\n",
        "df = d3.import_example('energy')\n",
        "\n",
        "# Show the input data\n",
        "print(df.head(2))\n",
        "\n",
        "# Initialize Network chart but do not yet show the chart.\n",
        "d3.d3graph(df, showfig=False, filepath='sample_data/chord_demo.html')\n",
        "\n",
        "# Color node on clustering\n",
        "d3.D3graph.set_node_properties(color='cluster')\n",
        "\n",
        "# Make adjustments to the node: Thermal_generation\n",
        "d3.D3graph.node_properties['Thermal_generation']['size']=20\n",
        "d3.D3graph.node_properties['Thermal_generation']['edge_color']='#000fff' # Blue node edge\n",
        "d3.D3graph.node_properties['Thermal_generation']['edge_size']=3 # Node-edge Size\n",
        "\n",
        "# Make adjustments to the edge: 'Solar', 'Solar_Thermal'\n",
        "d3.D3graph.edge_properties['Solar', 'Solar_Thermal']['color']='#000fff'\n",
        "d3.D3graph.edge_properties['Solar', 'Solar_Thermal']['weight_scaled']=10\n",
        "\n",
        "# Show the network graph\n",
        "d3.D3graph.show()"
      ],
      "metadata": {
        "colab": {
          "base_uri": "https://localhost:8080/"
        },
        "id": "yXIjpWvBHMLg",
        "outputId": "50ee8d3a-55fb-4b32-8f93-3ff6957d3dc4"
      },
      "execution_count": null,
      "outputs": [
        {
          "output_type": "stream",
          "name": "stderr",
          "text": [
            "[d3blocks] >INFO> Cleaning edge_properties and config parameters..\n",
            "[d3blocks] >INFO> Extracting files..\n",
            "[d3blocks] >INFO> Import dataset: [energy]\n",
            "[d3blocks] >INFO> Set directed=True to see the markers!\n",
            "[d3blocks] >INFO> Keep only edges with weight>0\n",
            "[d3blocks] >INFO> Number of unique nodes: 48\n",
            "[d3blocks] >INFO> Slider range is set to [0, 840]\n",
            "[d3blocks] >INFO> Write to path: [/content/sample_data/chord_demo.html]\n",
            "[d3blocks] >INFO> File already exists and will be overwritten: [/content/sample_data/chord_demo.html]\n"
          ]
        },
        {
          "output_type": "stream",
          "name": "stdout",
          "text": [
            "                 source          target   weight\n",
            "0  Agricultural 'waste'  Bio-conversion  124.729\n",
            "1        Bio-conversion          Liquid    0.597\n"
          ]
        },
        {
          "output_type": "stream",
          "name": "stderr",
          "text": [
            "[d3blocks] >INFO> Number of unique nodes: 48\n",
            "[d3blocks] >INFO> Slider range is set to [0, 840]\n",
            "[d3blocks] >INFO> Write to path: [/tmp/tmpyl46agul/d3graph.html]\n",
            "[d3blocks] >INFO> File already exists and will be overwritten: [/tmp/tmpyl46agul/d3graph.html]\n"
          ]
        }
      ]
    },
    {
      "cell_type": "code",
      "source": [
        "from d3blocks import D3Blocks\n",
        "\n",
        "# Initialize\n",
        "d3 = D3Blocks()\n",
        "\n",
        "# Import example\n",
        "df = d3.import_example('energy')\n",
        "\n",
        "# Link settings\n",
        "d3.sankey(df, link={\"color\": \"source-target\"}, filepath='sample_data/sankey_demo.html')\n",
        "\n",
        "d3.show()"
      ],
      "metadata": {
        "colab": {
          "base_uri": "https://localhost:8080/"
        },
        "id": "XbhpTexIHTov",
        "outputId": "be92bb22-62b6-4c9c-915d-4686fe26c7c3"
      },
      "execution_count": null,
      "outputs": [
        {
          "output_type": "stream",
          "name": "stderr",
          "text": [
            "[d3blocks] >INFO> Cleaning edge_properties and config parameters..\n",
            "[d3blocks] >INFO> Extracting files..\n",
            "[d3blocks] >INFO> Import dataset: [energy]\n",
            "[d3blocks] >INFO> Cleaning edge_properties and config parameters..\n",
            "[d3blocks] >INFO> Initializing [Sankey]\n",
            "[d3blocks] >INFO> filepath is set to [/content/sample_data/sankey_demo.html]\n",
            "[d3blocks] >INFO> Convert to Frame.\n",
            "[d3blocks] >INFO> Node properties are set.\n",
            "[d3blocks] >INFO> Edge properties are set.\n",
            "[d3blocks] >INFO> Open browser: /content/sample_data/sankey_demo.html\n",
            "[d3blocks] >INFO> File already exists and will be overwritten: [/content/sample_data/sankey_demo.html]\n",
            "[d3blocks] >INFO> Open browser: /content/sample_data/sankey_demo.html\n"
          ]
        }
      ]
    },
    {
      "cell_type": "code",
      "source": [
        "from d3blocks import D3Blocks\n",
        "\n",
        "# Initialize\n",
        "d3 = D3Blocks()\n",
        "\n",
        "# Import example\n",
        "df = d3.import_example('energy')\n",
        "\n",
        "# Link settings\n",
        "d3.chord(df, filepath='sample_data/chord_demo.html')"
      ],
      "metadata": {
        "id": "eHkaFdQ-IFCo",
        "outputId": "4199b2ca-9932-4717-c5c1-89a19da5d5aa",
        "colab": {
          "base_uri": "https://localhost:8080/"
        }
      },
      "execution_count": null,
      "outputs": [
        {
          "output_type": "stream",
          "name": "stderr",
          "text": [
            "[d3blocks] >INFO> Cleaning edge_properties and config parameters..\n",
            "[d3blocks] >INFO> Extracting files..\n",
            "[d3blocks] >INFO> Import dataset: [energy]\n",
            "[d3blocks] >INFO> Cleaning edge_properties and config parameters..\n",
            "[d3blocks] >INFO> Initializing [Chord]\n",
            "[d3blocks] >INFO> filepath is set to [/content/sample_data/chord_demo.html]\n",
            "[d3blocks] >INFO> Convert to Frame.\n",
            "[d3blocks] >INFO> Node properties are set.\n",
            "[d3blocks] >INFO> Set edge-opacity based on the [source] node-opacity.\n",
            "[d3blocks] >INFO> Set edge-colors based on the [source] node-color.\n",
            "[d3blocks] >INFO> Edge properties are set.\n",
            "[d3blocks] >INFO> File already exists and will be overwritten: [/content/sample_data/chord_demo.html]\n",
            "[d3blocks] >INFO> Open browser: /content/sample_data/chord_demo.html\n"
          ]
        }
      ]
    },
    {
      "cell_type": "code",
      "source": [
        "from d3blocks import D3Blocks\n",
        "\n",
        "# Initialize\n",
        "d3 = D3Blocks()\n",
        "\n",
        "# Import climate dataset\n",
        "df = d3.import_example('climate')\n",
        "\n",
        "# Print\n",
        "df.head()\n",
        "\n",
        "# Create the timeseries chart.\n",
        "d3.timeseries(df, datetime='date', dt_format='%Y-%m-%d %H:%M:%S', fontsize=10, filepath='sample_data/timeseries_demo.html')"
      ],
      "metadata": {
        "colab": {
          "base_uri": "https://localhost:8080/"
        },
        "id": "7akVRJeVt7TM",
        "outputId": "e84da963-fb88-4c50-9ba7-3eccceb5d429"
      },
      "execution_count": null,
      "outputs": [
        {
          "output_type": "stream",
          "name": "stderr",
          "text": [
            "[d3blocks] >INFO> Cleaning edge_properties and config parameters..\n",
            "[d3blocks] >INFO> Extracting files..\n",
            "[d3blocks] >INFO> Import dataset: [climate]\n",
            "[d3blocks] >INFO> Initializing [Timeseries]\n",
            "[d3blocks] >INFO> filepath is set to [/content/sample_data/timeseries_demo.html]\n",
            "[d3blocks] >INFO> Convert to Frame.\n",
            "[d3blocks] >INFO> Node properties are set.\n",
            "[d3blocks] >INFO> Edge properties are set.\n",
            "[d3blocks] >INFO> Open browser: /content/sample_data/timeseries_demo.html\n"
          ]
        }
      ]
    },
    {
      "cell_type": "code",
      "source": [
        "# Import library\n",
        "from d3blocks import D3Blocks\n",
        "\n",
        "# Set color scheme\n",
        "d3 = D3Blocks()\n",
        "\n",
        "# Generate random data with various states\n",
        "df = d3.import_example('random_time', n=10000, c=500, date_start=\"1-1-2000 00:10:05\", date_stop=\"1-1-2001 23:59:59\")\n",
        "\n",
        "#                 datetime sample_id     state\n",
        "# 0    2000-01-01 00:10:10        54  Hospital\n",
        "# 1    2000-01-01 00:10:19        28      Home\n",
        "# 2    2000-01-01 00:10:21        98  Hospital\n",
        "# 3    2000-01-01 00:10:30        12  Hospital\n",
        "# 4    2000-01-01 00:10:32        71    Travel\n",
        "#                  ...       ...       ...\n",
        "# 9995 2000-01-01 23:59:20         2  Hospital\n",
        "# 9996 2000-01-01 23:59:24        17      Home\n",
        "# 9997 2000-01-01 23:59:31        37     Bored\n",
        "# 9998 2000-01-01 23:59:47        48     Sport\n",
        "# 9999 2000-01-01 23:59:47        70    Travel\n",
        "\n",
        "# [10000 rows x 3 columns]\n",
        "\n",
        "# Make the moving bubbles chart.\n",
        "d3.movingbubbles(df,\n",
        "                 datetime='datetime',\n",
        "                 state='state',\n",
        "                 sample_id='sample_id',\n",
        "                 standardize=None,\n",
        "                 speed={\"slow\": 1000, \"medium\": 200, \"fast\": 10},\n",
        "                 cmap='Set1',\n",
        "                 filepath='sample_data/movingbubbles.html')"
      ],
      "metadata": {
        "colab": {
          "base_uri": "https://localhost:8080/"
        },
        "id": "MacfkAnSu13U",
        "outputId": "9f34b4f6-aa2b-403f-b188-de8f24e935ef"
      },
      "execution_count": null,
      "outputs": [
        {
          "output_type": "stream",
          "name": "stderr",
          "text": [
            "[d3blocks] >INFO> Cleaning edge_properties and config parameters..\n"
          ]
        }
      ]
    },
    {
      "cell_type": "code",
      "source": [
        "# Import\n",
        "from d3blocks import D3Blocks\n",
        "\n",
        "# Initialize\n",
        "d3 = D3Blocks()\n",
        "\n",
        "# Import example\n",
        "img_before, img_after = d3.import_example('unsplash')\n",
        "\n",
        "print(img_before)\n",
        "'C:\\\\unsplash_before.jpg'\n",
        "\n",
        "print(img_after)\n",
        "'C:\\\\unsplash_after.jpg'\n",
        "\n",
        "# Make image slider graph\n",
        "d3.imageslider(img_before, img_after, filepath='sample_data/comparepictures.html')"
      ],
      "metadata": {
        "id": "EKxRC_LGvIpE"
      },
      "execution_count": null,
      "outputs": []
    },
    {
      "cell_type": "code",
      "source": [
        "# Import library\n",
        "from d3blocks import D3Blocks\n",
        "\n",
        "# Initialize\n",
        "d3 = D3Blocks()\n",
        "\n",
        "# import example\n",
        "df = d3.import_example('cancer')\n",
        "\n",
        "#          x          y   age  ... labels \n",
        "#                              ...        \n",
        "#  37.204296  24.162813  58.0  ...    acc \n",
        "#  37.093090  23.423557  44.0  ...    acc \n",
        "#  36.806297  23.444910  23.0  ...    acc \n",
        "#  38.067886  24.411770  30.0  ...    acc \n",
        "#  36.791195  21.715324  29.0  ...    acc \n",
        "#    ...        ...   ...  ...    ...     \n",
        "#   0.839383  -8.870781   NaN  ...   brca \n",
        "#  -5.842904   2.877595   NaN  ...   brca \n",
        "#  -9.392038   1.663352  71.0  ...   brca \n",
        "#  -4.016389   6.260741   NaN  ...   brca \n",
        "#   0.229801  -8.227086   NaN  ...   brca \n",
        "\n",
        "# [4674 rows x 9 columns]\n",
        "\n",
        "# Setup the tooltip\n",
        "tooltip=df['labels'].values + ' <br /> Survival: ' + df['survival_months'].astype(str).str[0:4].values\n",
        "# Set the size\n",
        "size = df['survival_months'].fillna(1).values / 10\n",
        "\n",
        "# Scatter\n",
        "d3.scatter(df['x'].values,              # tSNE x-coordinates\n",
        "           df['y'].values,              # tSNE y-coordinates\n",
        "           x1=df['PC1'].values,         # PC1 x-coordinates\n",
        "           y1=df['PC2'].values,         # PC2 y-coordinates\n",
        "           scale=True,                  # Scale\n",
        "           label_radio=['tSNE', 'PCA'], # Label radio button\n",
        "           size=size,                   # Size\n",
        "           color=df['labels'].values,   # Hex-colors or classlabels\n",
        "           stroke='#000000',            # Edge color\n",
        "           opacity=0.4,                 # Opacity\n",
        "           tooltip=tooltip,             # Tooltip\n",
        "           cmap='tab20',                # Colormap\n",
        "           filepath='sample_data/scatter_demo.html')"
      ],
      "metadata": {
        "id": "e5GV4-FZvPiM"
      },
      "execution_count": null,
      "outputs": []
    },
    {
      "cell_type": "code",
      "source": [
        "# Import library\n",
        "from d3blocks import D3Blocks\n",
        "\n",
        "# Initialize\n",
        "d3 = D3Blocks()\n",
        "\n",
        "# import example\n",
        "df = d3.import_example('cancer')\n",
        "\n",
        "# Tooltip\n",
        "tooltip=df['labels'].values + ' <br /> Survival: ' + df['survival_months'].astype(str).values\n",
        "\n",
        "# Make the plot\n",
        "d3.violin(x=df['labels'].values, # class labels on the x axis\n",
        "          y=df['age'].values,    # Age\n",
        "          tooltip=tooltip,       # Tooltip for hovering\n",
        "          bins=50,               # Bins used for the histogram\n",
        "          size=df['survival_months'].values/10, # Dotsize\n",
        "          x_order=['acc','kich', 'brca','lgg','blca','coad','ov'], # Keep only these classes and plot in this order.\n",
        "          figsize=[None, None],                                    # Figure size is automatically determined.\n",
        "          filepath='sample_data/violine_demo.html')"
      ],
      "metadata": {
        "id": "kI6eUOOavPk9"
      },
      "execution_count": null,
      "outputs": []
    },
    {
      "cell_type": "code",
      "source": [
        "# Import library\n",
        "from d3blocks import D3Blocks\n",
        "\n",
        "# Initialize\n",
        "d3 = D3Blocks()\n",
        "\n",
        "# Make particles\n",
        "d3.particles('❤', collision=0.05, spacing=10, figsize=[1200, 500],filepath='sample_data/particle_demo.html')"
      ],
      "metadata": {
        "id": "koE-yLSlvPnr"
      },
      "execution_count": null,
      "outputs": []
    },
    {
      "cell_type": "code",
      "source": [
        "# Done"
      ],
      "metadata": {
        "id": "v8ucRtHGv4fj"
      },
      "execution_count": null,
      "outputs": []
    }
  ]
}