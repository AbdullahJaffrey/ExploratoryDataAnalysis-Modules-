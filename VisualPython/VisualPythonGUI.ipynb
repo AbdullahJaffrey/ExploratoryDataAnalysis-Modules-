{
 "cells": [
  {
   "cell_type": "markdown",
   "id": "cd8dd80e",
   "metadata": {},
   "source": [
    "# Visual Python is a GUI-based python code generator"
   ]
  },
  {
   "cell_type": "code",
   "execution_count": 1,
   "id": "298b8c0a",
   "metadata": {},
   "outputs": [],
   "source": [
    "# !pip install visualpython"
   ]
  },
  {
   "cell_type": "code",
   "execution_count": 2,
   "id": "0afbe212",
   "metadata": {},
   "outputs": [],
   "source": [
    "# !visualpy install"
   ]
  },
  {
   "cell_type": "code",
   "execution_count": 3,
   "id": "7ea23ba1",
   "metadata": {},
   "outputs": [],
   "source": [
    "# Done"
   ]
  }
 ],
 "metadata": {
  "kernelspec": {
   "display_name": "Python 3 (ipykernel)",
   "language": "python",
   "name": "python3"
  },
  "language_info": {
   "codemirror_mode": {
    "name": "ipython",
    "version": 3
   },
   "file_extension": ".py",
   "mimetype": "text/x-python",
   "name": "python",
   "nbconvert_exporter": "python",
   "pygments_lexer": "ipython3",
   "version": "3.9.13"
  },
  "vp": {
   "vp_config_version": "1.0.0",
   "vp_menu_width": 273,
   "vp_note_display": false,
   "vp_note_width": 0,
   "vp_position": {
    "width": 278
   },
   "vp_section_display": false,
   "vp_signature": "VisualPython"
  }
 },
 "nbformat": 4,
 "nbformat_minor": 5
}
