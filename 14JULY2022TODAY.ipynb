{
 "cells": [
  {
   "cell_type": "markdown",
   "id": "fc7c6715",
   "metadata": {},
   "source": [
    "# Modules:\n",
    "    \n",
    "Combination of classes and functions. Help you access more efficiently. no effort required to find the function location and access it, just write the name of the module, and thats it, you got the whole"
   ]
  },
  {
   "cell_type": "code",
   "execution_count": 90,
   "id": "6f1a4090",
   "metadata": {},
   "outputs": [],
   "source": [
    "def addition(*num):\n",
    "    if len(num) == 0:\n",
    "        retur\n",
    "    return sum(num)"
   ]
  },
  {
   "cell_type": "code",
   "execution_count": 91,
   "id": "25a5ab8d",
   "metadata": {},
   "outputs": [
    {
     "data": {
      "text/plain": [
       "15"
      ]
     },
     "execution_count": 91,
     "metadata": {},
     "output_type": "execute_result"
    }
   ],
   "source": [
    "addition(1,2,3,4,5)"
   ]
  },
  {
   "cell_type": "code",
   "execution_count": 92,
   "id": "d11aaa29",
   "metadata": {},
   "outputs": [],
   "source": [
    "# %load mymaths.py\n",
    "def addition(*num):\n",
    "    '''\n",
    "    It can take arbitrary arguments.\n",
    "    \n",
    "    '''\n",
    "    if len(num) == 0:\n",
    "        return 'atleast two parameters required'\n",
    "    else:\n",
    "        return sum(num)\n",
    "\n",
    "def exponent(num,exp):\n",
    "    return num**exp"
   ]
  },
  {
   "cell_type": "code",
   "execution_count": 93,
   "id": "dbe92f43",
   "metadata": {},
   "outputs": [],
   "source": [
    "import mymaths"
   ]
  },
  {
   "cell_type": "code",
   "execution_count": 94,
   "id": "0e79fc1d",
   "metadata": {},
   "outputs": [
    {
     "data": {
      "text/plain": [
       "10000"
      ]
     },
     "execution_count": 94,
     "metadata": {},
     "output_type": "execute_result"
    }
   ],
   "source": [
    "mymaths.exponent(10,4)"
   ]
  },
  {
   "cell_type": "code",
   "execution_count": 95,
   "id": "8ce6d2ca",
   "metadata": {},
   "outputs": [
    {
     "data": {
      "text/plain": [
       "112"
      ]
     },
     "execution_count": 95,
     "metadata": {},
     "output_type": "execute_result"
    }
   ],
   "source": [
    "mymaths.addition(100,12)"
   ]
  },
  {
   "cell_type": "markdown",
   "id": "64b81853",
   "metadata": {},
   "source": [
    "ANALYZE THE FORMATTING OF A STRING WHERE YOU TAKE A STRING AND CALCULATE THE SPACES, WORDS, CHAR INIT. "
   ]
  },
  {
   "cell_type": "code",
   "execution_count": null,
   "id": "e8cd944b",
   "metadata": {},
   "outputs": [],
   "source": [
    "# %load cahrcount.py\n",
    "def charcount(para):\n",
    "    return len([i for i in para if i !=\" \"])\n",
    "\n",
    "\n",
    "def spacecount(para):\n",
    "    #string = 'Hello world, enter a string'\n",
    "    return len([i for i in para if i ==\" \"])\n",
    "\n",
    "def splitcount(para):\n",
    "    return len([i for i in para.split(',')])\n",
    "\n",
    "def totalcount1(para):\n",
    "    return len([i for i in para.split(' ')])\n",
    "\n",
    "def indexfinder(para):\n",
    "    return para.find('Hello')"
   ]
  },
  {
   "cell_type": "code",
   "execution_count": 110,
   "id": "dfa7df14",
   "metadata": {},
   "outputs": [],
   "source": [
    "import cahrcount"
   ]
  },
  {
   "cell_type": "code",
   "execution_count": 111,
   "id": "a3dce049",
   "metadata": {},
   "outputs": [
    {
     "ename": "NameError",
     "evalue": "name 'para' is not defined",
     "output_type": "error",
     "traceback": [
      "\u001b[1;31m---------------------------------------------------------------------------\u001b[0m",
      "\u001b[1;31mNameError\u001b[0m                                 Traceback (most recent call last)",
      "\u001b[1;32mC:\\Users\\LAB02R~1\\AppData\\Local\\Temp/ipykernel_6524/698628983.py\u001b[0m in \u001b[0;36m<module>\u001b[1;34m\u001b[0m\n\u001b[1;32m----> 1\u001b[1;33m \u001b[0mcharcount\u001b[0m\u001b[1;33m(\u001b[0m\u001b[0mpara\u001b[0m\u001b[1;33m)\u001b[0m\u001b[1;33m\u001b[0m\u001b[1;33m\u001b[0m\u001b[0m\n\u001b[0m",
      "\u001b[1;31mNameError\u001b[0m: name 'para' is not defined"
     ]
    }
   ],
   "source": [
    "charcount(para)"
   ]
  },
  {
   "cell_type": "code",
   "execution_count": 103,
   "id": "1a837729",
   "metadata": {},
   "outputs": [
    {
     "ename": "NameError",
     "evalue": "name 'string' is not defined",
     "output_type": "error",
     "traceback": [
      "\u001b[1;31m---------------------------------------------------------------------------\u001b[0m",
      "\u001b[1;31mNameError\u001b[0m                                 Traceback (most recent call last)",
      "\u001b[1;32mC:\\Users\\LAB02R~1\\AppData\\Local\\Temp/ipykernel_6524/890196836.py\u001b[0m in \u001b[0;36m<module>\u001b[1;34m\u001b[0m\n\u001b[1;32m----> 1\u001b[1;33m \u001b[0mspacecount\u001b[0m\u001b[1;33m(\u001b[0m\u001b[0mstring\u001b[0m\u001b[1;33m)\u001b[0m\u001b[1;33m\u001b[0m\u001b[1;33m\u001b[0m\u001b[0m\n\u001b[0m",
      "\u001b[1;31mNameError\u001b[0m: name 'string' is not defined"
     ]
    }
   ],
   "source": [
    "spacecount(string)"
   ]
  },
  {
   "cell_type": "code",
   "execution_count": 80,
   "id": "172091dd",
   "metadata": {},
   "outputs": [],
   "source": [
    "def splitcount(string):\n",
    "    string = 'Hello world, enter a string'\n",
    "    return len([i for i in string.split(',')])"
   ]
  },
  {
   "cell_type": "code",
   "execution_count": 81,
   "id": "a11aa268",
   "metadata": {},
   "outputs": [
    {
     "ename": "NameError",
     "evalue": "name 'string' is not defined",
     "output_type": "error",
     "traceback": [
      "\u001b[1;31m---------------------------------------------------------------------------\u001b[0m",
      "\u001b[1;31mNameError\u001b[0m                                 Traceback (most recent call last)",
      "\u001b[1;32mC:\\Users\\LAB02R~1\\AppData\\Local\\Temp/ipykernel_6524/2600804396.py\u001b[0m in \u001b[0;36m<module>\u001b[1;34m\u001b[0m\n\u001b[1;32m----> 1\u001b[1;33m \u001b[0msplitcount\u001b[0m\u001b[1;33m(\u001b[0m\u001b[0mstring\u001b[0m\u001b[1;33m)\u001b[0m\u001b[1;33m\u001b[0m\u001b[1;33m\u001b[0m\u001b[0m\n\u001b[0m",
      "\u001b[1;31mNameError\u001b[0m: name 'string' is not defined"
     ]
    }
   ],
   "source": [
    "splitcount(string)"
   ]
  },
  {
   "cell_type": "code",
   "execution_count": 82,
   "id": "b73e6e5c",
   "metadata": {},
   "outputs": [],
   "source": [
    "def totalcount1(string):\n",
    "    global string1\n",
    "    string1 = 'Hello world, enter a string'\n",
    "    return len([i for i in string1.split(' ')])"
   ]
  },
  {
   "cell_type": "code",
   "execution_count": 83,
   "id": "ebac1e72",
   "metadata": {},
   "outputs": [
    {
     "ename": "NameError",
     "evalue": "name 'string' is not defined",
     "output_type": "error",
     "traceback": [
      "\u001b[1;31m---------------------------------------------------------------------------\u001b[0m",
      "\u001b[1;31mNameError\u001b[0m                                 Traceback (most recent call last)",
      "\u001b[1;32mC:\\Users\\LAB02R~1\\AppData\\Local\\Temp/ipykernel_6524/2093567658.py\u001b[0m in \u001b[0;36m<module>\u001b[1;34m\u001b[0m\n\u001b[1;32m----> 1\u001b[1;33m \u001b[0mtotalcount1\u001b[0m\u001b[1;33m(\u001b[0m\u001b[0mstring\u001b[0m\u001b[1;33m)\u001b[0m\u001b[1;33m\u001b[0m\u001b[1;33m\u001b[0m\u001b[0m\n\u001b[0m",
      "\u001b[1;31mNameError\u001b[0m: name 'string' is not defined"
     ]
    }
   ],
   "source": [
    "totalcount1(string)"
   ]
  },
  {
   "cell_type": "code",
   "execution_count": 84,
   "id": "98169fdf",
   "metadata": {},
   "outputs": [],
   "source": [
    "def indexfinder(string):\n",
    "    string = 'Hello world, enter a string'\n",
    "    string.find('Hello')"
   ]
  },
  {
   "cell_type": "code",
   "execution_count": 85,
   "id": "d6b08780",
   "metadata": {},
   "outputs": [
    {
     "ename": "NameError",
     "evalue": "name 'string' is not defined",
     "output_type": "error",
     "traceback": [
      "\u001b[1;31m---------------------------------------------------------------------------\u001b[0m",
      "\u001b[1;31mNameError\u001b[0m                                 Traceback (most recent call last)",
      "\u001b[1;32mC:\\Users\\LAB02R~1\\AppData\\Local\\Temp/ipykernel_6524/18957866.py\u001b[0m in \u001b[0;36m<module>\u001b[1;34m\u001b[0m\n\u001b[1;32m----> 1\u001b[1;33m \u001b[0mprint\u001b[0m\u001b[1;33m(\u001b[0m\u001b[0mindexfinder\u001b[0m\u001b[1;33m(\u001b[0m\u001b[0mstring\u001b[0m\u001b[1;33m)\u001b[0m\u001b[1;33m)\u001b[0m\u001b[1;33m\u001b[0m\u001b[1;33m\u001b[0m\u001b[0m\n\u001b[0m",
      "\u001b[1;31mNameError\u001b[0m: name 'string' is not defined"
     ]
    }
   ],
   "source": [
    "print(indexfinder(string))"
   ]
  },
  {
   "cell_type": "code",
   "execution_count": null,
   "id": "f0636999",
   "metadata": {},
   "outputs": [],
   "source": []
  }
 ],
 "metadata": {
  "kernelspec": {
   "display_name": "Python 3 (ipykernel)",
   "language": "python",
   "name": "python3"
  },
  "language_info": {
   "codemirror_mode": {
    "name": "ipython",
    "version": 3
   },
   "file_extension": ".py",
   "mimetype": "text/x-python",
   "name": "python",
   "nbconvert_exporter": "python",
   "pygments_lexer": "ipython3",
   "version": "3.9.7"
  }
 },
 "nbformat": 4,
 "nbformat_minor": 5
}
